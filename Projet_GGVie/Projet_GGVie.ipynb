{
 "cells": [
  {
   "cell_type": "code",
   "execution_count": null,
   "outputs": [],
   "source": [
    "import pandas as pd"
   ],
   "metadata": {
    "collapsed": false
   }
  },
  {
   "cell_type": "code",
   "execution_count": null,
   "outputs": [],
   "source": [
    "df1 = pd.read_csv(\"data/StockEtablissementHistorique_utf8.csv\", chunksize=1000000)\n",
    "df1 = pd.DataFrame(df1.get_chunk(1000000))"
   ],
   "metadata": {
    "collapsed": false
   }
  },
  {
   "cell_type": "code",
   "execution_count": null,
   "outputs": [],
   "source": [
    "df2 = pd.read_csv(\"data/StockEtablissement_utf8.csv\", chunksize=1000000)\n",
    "df2 = pd.DataFrame(df2.get_chunk(1000000))"
   ],
   "metadata": {
    "collapsed": false
   }
  },
  {
   "cell_type": "code",
   "execution_count": null,
   "outputs": [],
   "source": [
    "df3 = pd.read_csv(\"data/StockEtablissementLiensSuccession_utf8.csv\", chunksize=1000000)\n",
    "df3 = pd.DataFrame(df3.get_chunk(1000000))"
   ],
   "metadata": {
    "collapsed": false
   }
  },
  {
   "cell_type": "code",
   "execution_count": null,
   "outputs": [],
   "source": [
    "df4 = pd.read_csv(\"data/StockUniteLegale_utf8.csv\", chunksize=1000000)\n",
    "df4 = pd.DataFrame(df4.get_chunk(1000000))"
   ],
   "metadata": {
    "collapsed": false
   }
  },
  {
   "cell_type": "code",
   "execution_count": null,
   "outputs": [],
   "source": [
    "df5 = pd.read_csv(\"data/StockUniteLegaleHistorique_utf8.csv\", chunksize=1000000)\n",
    "df5 = pd.DataFrame(df5.get_chunk(1000000))"
   ],
   "metadata": {
    "collapsed": false
   }
  },
  {
   "cell_type": "code",
   "execution_count": 18,
   "outputs": [
    {
     "data": {
      "text/plain": "            siren  nic           siret     dateFin   dateDebut  \\\n0          325175   16     32517500016         NaN  2009-05-27   \n1          325175   16     32517500016  2007-12-31  2000-09-26   \n2          325175   16     32517500016  2009-05-26  2008-01-01   \n3          325175   24     32517500024         NaN  2011-10-21   \n4          325175   24     32517500024  2011-10-20  2008-05-20   \n...           ...  ...             ...         ...         ...   \n999995  215103797   19  21510379700019         NaN  2018-01-01   \n999996  215103797   19  21510379700019  2017-12-31  2008-01-01   \n999997  215103797   19  21510379700019  2007-12-31  2001-12-25   \n999998  215103797   19  21510379700019  1996-12-24  1983-03-01   \n999999  215103797   27  21510379700027  2007-12-31  1983-12-25   \n\n       etatAdministratifEtablissement  \\\n0                                   F   \n1                                   A   \n2                                   A   \n3                                   F   \n4                                   A   \n...                               ...   \n999995                              F   \n999996                              A   \n999997                              A   \n999998                              A   \n999999                              A   \n\n        changementEtatAdministratifEtablissement  \\\n0                                           True   \n1                                          False   \n2                                          False   \n3                                           True   \n4                                          False   \n...                                          ...   \n999995                                      True   \n999996                                     False   \n999997                                     False   \n999998                                     False   \n999999                                     False   \n\n                       enseigne1Etablissement enseigne2Etablissement  \\\n0                                         NaN                    NaN   \n1                                         NaN                    NaN   \n2                                         NaN                    NaN   \n3                     TAHITI PERLES CREATIONS                    NaN   \n4                     TAHITI PERLES CREATIONS                    NaN   \n...                                       ...                    ...   \n999995                                 MAIRIE                    NaN   \n999996                                 MAIRIE                    NaN   \n999997                                 MAIRIE                    NaN   \n999998                                 MAIRIE                    NaN   \n999999  ECOLE PRIMAIRE PUBLIQUE LES BOTTERETS                    NaN   \n\n       enseigne3Etablissement  changementEnseigneEtablissement  \\\n0                         NaN                            False   \n1                         NaN                            False   \n2                         NaN                            False   \n3                         NaN                            False   \n4                         NaN                            False   \n...                       ...                              ...   \n999995                    NaN                            False   \n999996                    NaN                            False   \n999997                    NaN                            False   \n999998                    NaN                            False   \n999999                    NaN                            False   \n\n       denominationUsuelleEtablissement  \\\n0                                   NaN   \n1                                   NaN   \n2                                   NaN   \n3                                   NaN   \n4                                   NaN   \n...                                 ...   \n999995                              NaN   \n999996                              NaN   \n999997                              NaN   \n999998                              NaN   \n999999                              NaN   \n\n        changementDenominationUsuelleEtablissement  \\\n0                                            False   \n1                                            False   \n2                                            False   \n3                                            False   \n4                                            False   \n...                                            ...   \n999995                                       False   \n999996                                       False   \n999997                                       False   \n999998                                       False   \n999999                                       False   \n\n       activitePrincipaleEtablissement  \\\n0                               32.12Z   \n1                                  NaN   \n2                               32.12Z   \n3                               47.89Z   \n4                               47.89Z   \n...                                ...   \n999995                          84.11Z   \n999996                          84.11Z   \n999997                           75.1A   \n999998                             NaN   \n999999                           80.1Z   \n\n       nomenclatureActivitePrincipaleEtablissement  \\\n0                                          NAFRev2   \n1                                              NaN   \n2                                          NAFRev2   \n3                                          NAFRev2   \n4                                          NAFRev2   \n...                                            ...   \n999995                                     NAFRev2   \n999996                                     NAFRev2   \n999997                                     NAF1993   \n999998                                         NaN   \n999999                                     NAF1993   \n\n        changementActivitePrincipaleEtablissement  \\\n0                                           False   \n1                                           False   \n2                                            True   \n3                                           False   \n4                                           False   \n...                                           ...   \n999995                                      False   \n999996                                       True   \n999997                                       True   \n999998                                      False   \n999999                                       True   \n\n       caractereEmployeurEtablissement  \\\n0                                    N   \n1                                    N   \n2                                    N   \n3                                    N   \n4                                    N   \n...                                ...   \n999995                               O   \n999996                               O   \n999997                               O   \n999998                             NaN   \n999999                               N   \n\n        changementCaractereEmployeurEtablissement  \n0                                           False  \n1                                           False  \n2                                           False  \n3                                           False  \n4                                           False  \n...                                           ...  \n999995                                      False  \n999996                                      False  \n999997                                      False  \n999998                                      False  \n999999                                      False  \n\n[1000000 rows x 18 columns]",
      "text/html": "<div>\n<style scoped>\n    .dataframe tbody tr th:only-of-type {\n        vertical-align: middle;\n    }\n\n    .dataframe tbody tr th {\n        vertical-align: top;\n    }\n\n    .dataframe thead th {\n        text-align: right;\n    }\n</style>\n<table border=\"1\" class=\"dataframe\">\n  <thead>\n    <tr style=\"text-align: right;\">\n      <th></th>\n      <th>siren</th>\n      <th>nic</th>\n      <th>siret</th>\n      <th>dateFin</th>\n      <th>dateDebut</th>\n      <th>etatAdministratifEtablissement</th>\n      <th>changementEtatAdministratifEtablissement</th>\n      <th>enseigne1Etablissement</th>\n      <th>enseigne2Etablissement</th>\n      <th>enseigne3Etablissement</th>\n      <th>changementEnseigneEtablissement</th>\n      <th>denominationUsuelleEtablissement</th>\n      <th>changementDenominationUsuelleEtablissement</th>\n      <th>activitePrincipaleEtablissement</th>\n      <th>nomenclatureActivitePrincipaleEtablissement</th>\n      <th>changementActivitePrincipaleEtablissement</th>\n      <th>caractereEmployeurEtablissement</th>\n      <th>changementCaractereEmployeurEtablissement</th>\n    </tr>\n  </thead>\n  <tbody>\n    <tr>\n      <th>0</th>\n      <td>325175</td>\n      <td>16</td>\n      <td>32517500016</td>\n      <td>NaN</td>\n      <td>2009-05-27</td>\n      <td>F</td>\n      <td>True</td>\n      <td>NaN</td>\n      <td>NaN</td>\n      <td>NaN</td>\n      <td>False</td>\n      <td>NaN</td>\n      <td>False</td>\n      <td>32.12Z</td>\n      <td>NAFRev2</td>\n      <td>False</td>\n      <td>N</td>\n      <td>False</td>\n    </tr>\n    <tr>\n      <th>1</th>\n      <td>325175</td>\n      <td>16</td>\n      <td>32517500016</td>\n      <td>2007-12-31</td>\n      <td>2000-09-26</td>\n      <td>A</td>\n      <td>False</td>\n      <td>NaN</td>\n      <td>NaN</td>\n      <td>NaN</td>\n      <td>False</td>\n      <td>NaN</td>\n      <td>False</td>\n      <td>NaN</td>\n      <td>NaN</td>\n      <td>False</td>\n      <td>N</td>\n      <td>False</td>\n    </tr>\n    <tr>\n      <th>2</th>\n      <td>325175</td>\n      <td>16</td>\n      <td>32517500016</td>\n      <td>2009-05-26</td>\n      <td>2008-01-01</td>\n      <td>A</td>\n      <td>False</td>\n      <td>NaN</td>\n      <td>NaN</td>\n      <td>NaN</td>\n      <td>False</td>\n      <td>NaN</td>\n      <td>False</td>\n      <td>32.12Z</td>\n      <td>NAFRev2</td>\n      <td>True</td>\n      <td>N</td>\n      <td>False</td>\n    </tr>\n    <tr>\n      <th>3</th>\n      <td>325175</td>\n      <td>24</td>\n      <td>32517500024</td>\n      <td>NaN</td>\n      <td>2011-10-21</td>\n      <td>F</td>\n      <td>True</td>\n      <td>TAHITI PERLES CREATIONS</td>\n      <td>NaN</td>\n      <td>NaN</td>\n      <td>False</td>\n      <td>NaN</td>\n      <td>False</td>\n      <td>47.89Z</td>\n      <td>NAFRev2</td>\n      <td>False</td>\n      <td>N</td>\n      <td>False</td>\n    </tr>\n    <tr>\n      <th>4</th>\n      <td>325175</td>\n      <td>24</td>\n      <td>32517500024</td>\n      <td>2011-10-20</td>\n      <td>2008-05-20</td>\n      <td>A</td>\n      <td>False</td>\n      <td>TAHITI PERLES CREATIONS</td>\n      <td>NaN</td>\n      <td>NaN</td>\n      <td>False</td>\n      <td>NaN</td>\n      <td>False</td>\n      <td>47.89Z</td>\n      <td>NAFRev2</td>\n      <td>False</td>\n      <td>N</td>\n      <td>False</td>\n    </tr>\n    <tr>\n      <th>...</th>\n      <td>...</td>\n      <td>...</td>\n      <td>...</td>\n      <td>...</td>\n      <td>...</td>\n      <td>...</td>\n      <td>...</td>\n      <td>...</td>\n      <td>...</td>\n      <td>...</td>\n      <td>...</td>\n      <td>...</td>\n      <td>...</td>\n      <td>...</td>\n      <td>...</td>\n      <td>...</td>\n      <td>...</td>\n      <td>...</td>\n    </tr>\n    <tr>\n      <th>999995</th>\n      <td>215103797</td>\n      <td>19</td>\n      <td>21510379700019</td>\n      <td>NaN</td>\n      <td>2018-01-01</td>\n      <td>F</td>\n      <td>True</td>\n      <td>MAIRIE</td>\n      <td>NaN</td>\n      <td>NaN</td>\n      <td>False</td>\n      <td>NaN</td>\n      <td>False</td>\n      <td>84.11Z</td>\n      <td>NAFRev2</td>\n      <td>False</td>\n      <td>O</td>\n      <td>False</td>\n    </tr>\n    <tr>\n      <th>999996</th>\n      <td>215103797</td>\n      <td>19</td>\n      <td>21510379700019</td>\n      <td>2017-12-31</td>\n      <td>2008-01-01</td>\n      <td>A</td>\n      <td>False</td>\n      <td>MAIRIE</td>\n      <td>NaN</td>\n      <td>NaN</td>\n      <td>False</td>\n      <td>NaN</td>\n      <td>False</td>\n      <td>84.11Z</td>\n      <td>NAFRev2</td>\n      <td>True</td>\n      <td>O</td>\n      <td>False</td>\n    </tr>\n    <tr>\n      <th>999997</th>\n      <td>215103797</td>\n      <td>19</td>\n      <td>21510379700019</td>\n      <td>2007-12-31</td>\n      <td>2001-12-25</td>\n      <td>A</td>\n      <td>False</td>\n      <td>MAIRIE</td>\n      <td>NaN</td>\n      <td>NaN</td>\n      <td>False</td>\n      <td>NaN</td>\n      <td>False</td>\n      <td>75.1A</td>\n      <td>NAF1993</td>\n      <td>True</td>\n      <td>O</td>\n      <td>False</td>\n    </tr>\n    <tr>\n      <th>999998</th>\n      <td>215103797</td>\n      <td>19</td>\n      <td>21510379700019</td>\n      <td>1996-12-24</td>\n      <td>1983-03-01</td>\n      <td>A</td>\n      <td>False</td>\n      <td>MAIRIE</td>\n      <td>NaN</td>\n      <td>NaN</td>\n      <td>False</td>\n      <td>NaN</td>\n      <td>False</td>\n      <td>NaN</td>\n      <td>NaN</td>\n      <td>False</td>\n      <td>NaN</td>\n      <td>False</td>\n    </tr>\n    <tr>\n      <th>999999</th>\n      <td>215103797</td>\n      <td>27</td>\n      <td>21510379700027</td>\n      <td>2007-12-31</td>\n      <td>1983-12-25</td>\n      <td>A</td>\n      <td>False</td>\n      <td>ECOLE PRIMAIRE PUBLIQUE LES BOTTERETS</td>\n      <td>NaN</td>\n      <td>NaN</td>\n      <td>False</td>\n      <td>NaN</td>\n      <td>False</td>\n      <td>80.1Z</td>\n      <td>NAF1993</td>\n      <td>True</td>\n      <td>N</td>\n      <td>False</td>\n    </tr>\n  </tbody>\n</table>\n<p>1000000 rows × 18 columns</p>\n</div>"
     },
     "execution_count": 18,
     "metadata": {},
     "output_type": "execute_result"
    }
   ],
   "source": [
    "df1"
   ],
   "metadata": {
    "collapsed": false
   }
  },
  {
   "cell_type": "code",
   "execution_count": 24,
   "outputs": [
    {
     "data": {
      "text/plain": "Index(['siren', 'nic', 'siret', 'dateFin', 'dateDebut',\n       'etatAdministratifEtablissement',\n       'changementEtatAdministratifEtablissement', 'enseigne1Etablissement',\n       'enseigne2Etablissement', 'enseigne3Etablissement',\n       'changementEnseigneEtablissement', 'denominationUsuelleEtablissement',\n       'changementDenominationUsuelleEtablissement',\n       'activitePrincipaleEtablissement',\n       'nomenclatureActivitePrincipaleEtablissement',\n       'changementActivitePrincipaleEtablissement',\n       'caractereEmployeurEtablissement',\n       'changementCaractereEmployeurEtablissement'],\n      dtype='object')"
     },
     "execution_count": 24,
     "metadata": {},
     "output_type": "execute_result"
    }
   ],
   "source": [
    "df1.columns"
   ],
   "metadata": {
    "collapsed": false
   }
  },
  {
   "cell_type": "markdown",
   "source": [
    "Colonnes importantes : 'etatAdministratifEtablissement', 'changementEtatAdministratifEtablissement', 'enseigne1Etablissement', 'enseigne2Etablissement', 'enseigne3Etablissement', 'changementEnseigneEtablissement', 'denominationUsuelleEtablissement', 'changementDenominationUsuelleEtablissement', 'activitePrincipaleEtablissement' 'nomenclatureActivitePrincipaleEtablissement', 'changementActivitePrincipaleEtablissement' 'caractereEmployeurEtablissement', 'changementCaractereEmployeurEtablissement'\n"
   ],
   "metadata": {
    "collapsed": false
   }
  },
  {
   "cell_type": "code",
   "execution_count": 21,
   "outputs": [
    {
     "data": {
      "text/plain": "(1000000, 48)"
     },
     "execution_count": 21,
     "metadata": {},
     "output_type": "execute_result"
    }
   ],
   "source": [
    "df2.shape"
   ],
   "metadata": {
    "collapsed": false
   }
  },
  {
   "cell_type": "markdown",
   "source": [],
   "metadata": {
    "collapsed": false
   }
  }
 ],
 "metadata": {
  "kernelspec": {
   "display_name": "Python 3",
   "language": "python",
   "name": "python3"
  },
  "language_info": {
   "codemirror_mode": {
    "name": "ipython",
    "version": 2
   },
   "file_extension": ".py",
   "mimetype": "text/x-python",
   "name": "python",
   "nbconvert_exporter": "python",
   "pygments_lexer": "ipython2",
   "version": "2.7.6"
  }
 },
 "nbformat": 4,
 "nbformat_minor": 0
}
