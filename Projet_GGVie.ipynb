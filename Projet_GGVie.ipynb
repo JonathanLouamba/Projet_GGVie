{
 "cells": [
  {
   "cell_type": "code",
   "execution_count": 4,
   "outputs": [],
   "source": [
    "import pandas as pd\n",
    "import requests"
   ],
   "metadata": {
    "collapsed": false
   }
  },
  {
   "cell_type": "code",
   "execution_count": null,
   "outputs": [],
   "source": [
    "# Stock etablissement historique\n",
    "stock_etablissement_hist = pd.read_csv(\"../data_Projet_GGVie/StockEtablissementHistorique_utf8.csv\", chunksize=1000000)\n",
    "stock_etablissement_hist = pd.DataFrame(stock_etablissement_hist.get_chunk(1000000))\n",
    "\n",
    "# Stock etablissement\n",
    "stock_etablissement = pd.read_csv(\"../data_Projet_GGVie/StockEtablissement_utf8.csv\", chunksize=1000000)\n",
    "stock_etablissement = pd.DataFrame(stock_etablissement.get_chunk(1000000))\n",
    "\n",
    "# Stock etablissement lien succession\n",
    "stock_etablissement_lien_succession = pd.read_csv(\"../data_Projet_GGVie/StockEtablissementLiensSuccession_utf8.csv\", chunksize=1000000)\n",
    "stock_etablissement_lien_succession = pd.DataFrame(stock_etablissement_lien_succession.get_chunk(1000000))\n",
    "\n",
    "# Stock unite legale\n",
    "stock_unite_legale = pd.read_csv(\"../data_Projet_GGVie/StockUniteLegale_utf8.csv\", chunksize=1000000)\n",
    "stock_unite_legale = pd.DataFrame(stock_unite_legale.get_chunk(1000000))\n",
    "\n",
    "# Stock unite legale historique\n",
    "stock_unite_legale_hist = pd.read_csv(\"../data_Projet_GGVie/StockUniteLegaleHistorique_utf8.csv\", chunksize=1000000)\n",
    "stock_unite_legale_hist = pd.DataFrame(stock_unite_legale_hist.get_chunk(1000000))"
   ],
   "metadata": {
    "collapsed": false,
    "pycharm": {
     "is_executing": true
    }
   }
  },
  {
   "cell_type": "code",
   "execution_count": null,
   "outputs": [],
   "source": [
    "# Pour voir les colonnes en commun\n",
    "print(stock_etablissement.columns.intersection(stock_etablissement_hist.columns))\n",
    "print(stock_unite_legale.columns.intersection(stock_unite_legale_hist.columns))"
   ],
   "metadata": {
    "collapsed": false,
    "pycharm": {
     "is_executing": true
    }
   }
  },
  {
   "cell_type": "code",
   "execution_count": null,
   "outputs": [],
   "source": [
    "print(stock_unite_legale_merged.columns.intersection(stock_etablissement_merged.columns))"
   ],
   "metadata": {
    "collapsed": false,
    "pycharm": {
     "is_executing": true
    }
   }
  },
  {
   "cell_type": "code",
   "execution_count": 62,
   "outputs": [
    {
     "name": "stdout",
     "output_type": "stream",
     "text": [
      "Index(['siren', 'dateDebut'], dtype='object')\n"
     ]
    }
   ],
   "source": [
    "print(stock_unite_legale.columns.intersection(stock_etablissement.columns))"
   ],
   "metadata": {
    "collapsed": false
   }
  },
  {
   "cell_type": "code",
   "execution_count": 41,
   "outputs": [],
   "source": [
    "stock_unite_legale_merged = stock_unite_legale.merge(stock_unite_legale_hist,on=['siren', 'dateDebut', 'etatAdministratifUniteLegale', 'nomUniteLegale',\n",
    "       'nomUsageUniteLegale', 'denominationUniteLegale',\n",
    "       'denominationUsuelle1UniteLegale', 'denominationUsuelle2UniteLegale',\n",
    "       'denominationUsuelle3UniteLegale', 'categorieJuridiqueUniteLegale',\n",
    "       'activitePrincipaleUniteLegale',\n",
    "       'nomenclatureActivitePrincipaleUniteLegale', 'nicSiegeUniteLegale',\n",
    "       'economieSocialeSolidaireUniteLegale', 'societeMissionUniteLegale',\n",
    "       'caractereEmployeurUniteLegale'])"
   ],
   "metadata": {
    "collapsed": false
   }
  },
  {
   "cell_type": "code",
   "execution_count": 37,
   "outputs": [],
   "source": [
    "stock_etablissement_merged = stock_etablissement.merge(stock_etablissement_hist,on=['siren', 'nic', 'siret', 'dateDebut', 'etatAdministratifEtablissement',\n",
    "       'enseigne1Etablissement', 'enseigne2Etablissement',\n",
    "       'enseigne3Etablissement', 'denominationUsuelleEtablissement',\n",
    "       'activitePrincipaleEtablissement',\n",
    "       'nomenclatureActivitePrincipaleEtablissement',\n",
    "       'caractereEmployeurEtablissement'])"
   ],
   "metadata": {
    "collapsed": false
   }
  },
  {
   "cell_type": "code",
   "execution_count": 74,
   "outputs": [
    {
     "data": {
      "text/plain": "            siren  nic           siret statutDiffusionEtablissement  \\\n0          325175   16     32517500016                            O   \n1          325175   24     32517500024                            O   \n2          325175   32     32517500032                            O   \n3          325175   40     32517500040                            O   \n4          325175   57     32517500057                            O   \n...           ...  ...             ...                          ...   \n999995  305147969   29  30514796900029                            O   \n999996  305147985   25  30514798500025                            O   \n999997  305148017   18  30514801700018                            O   \n999998  305148041   26  30514804100026                            O   \n999999  305148074   19  30514807400019                            O   \n\n       dateCreationEtablissement trancheEffectifsEtablissement  \\\n0                     2000-09-26                           NaN   \n1                     2008-05-20                           NaN   \n2                     2009-05-27                           NaN   \n3                     2011-10-21                           NaN   \n4                     2014-01-07                           NaN   \n...                          ...                           ...   \n999995                       NaN                           NaN   \n999996                       NaN                           NaN   \n999997                       NaN                           NaN   \n999998                1980-01-01                            NN   \n999999                       NaN                           NaN   \n\n        anneeEffectifsEtablissement  \\\n0                               NaN   \n1                               NaN   \n2                               NaN   \n3                               NaN   \n4                               NaN   \n...                             ...   \n999995                          NaN   \n999996                          NaN   \n999997                          NaN   \n999998                          NaN   \n999999                          NaN   \n\n       activitePrincipaleRegistreMetiersEtablissement  \\\n0                                              3212ZZ   \n1                                                 NaN   \n2                                                 NaN   \n3                                              3212ZZ   \n4                                                 NaN   \n...                                               ...   \n999995                                            NaN   \n999996                                            NaN   \n999997                                            NaN   \n999998                                            NaN   \n999999                                            NaN   \n\n       dateDernierTraitementEtablissement  etablissementSiege  ...  \\\n0                     2015-03-18T00:58:59               False  ...   \n1                     2011-12-12T09:40:04               False  ...   \n2                     2014-07-08T00:10:21               False  ...   \n3                     2015-03-18T00:58:59               False  ...   \n4                     2018-07-10T14:17:15               False  ...   \n...                                   ...                 ...  ...   \n999995                                NaN                True  ...   \n999996                                NaN                True  ...   \n999997                                NaN                True  ...   \n999998                2019-11-14T14:00:38                True  ...   \n999999                2019-11-14T14:00:38                True  ...   \n\n        libellePaysEtranger2Etablissement   dateDebut  \\\n0                                     NaN  2009-05-27   \n1                                     NaN  2011-10-21   \n2                                     NaN  2011-10-21   \n3                                     NaN  2014-01-07   \n4                                     NaN  2018-02-07   \n...                                   ...         ...   \n999995                                NaN  1989-01-01   \n999996                                NaN  1990-02-28   \n999997                                NaN  1990-12-07   \n999998                                NaN  2008-01-01   \n999999                                NaN  1987-10-07   \n\n       etatAdministratifEtablissement   enseigne1Etablissement  \\\n0                                   F                      NaN   \n1                                   F  TAHITI PERLES CREATIONS   \n2                                   F  TAHITI PERLES CREATIONS   \n3                                   F   TAHITI PERLES CREATION   \n4                                   F   TAHITI PERLES CREATION   \n...                               ...                      ...   \n999995                              F                      NaN   \n999996                              F                      NaN   \n999997                              F                      NaN   \n999998                              A                      NaN   \n999999                              F                      NaN   \n\n       enseigne2Etablissement enseigne3Etablissement  \\\n0                         NaN                    NaN   \n1                         NaN                    NaN   \n2                         NaN                    NaN   \n3                         NaN                    NaN   \n4                         NaN                    NaN   \n...                       ...                    ...   \n999995                    NaN                    NaN   \n999996                    NaN                    NaN   \n999997                    NaN                    NaN   \n999998                    NaN                    NaN   \n999999                    NaN                    NaN   \n\n        denominationUsuelleEtablissement activitePrincipaleEtablissement  \\\n0                                    NaN                          32.12Z   \n1                                    NaN                          47.89Z   \n2                                    NaN                          32.12Z   \n3                                    NaN                          32.12Z   \n4                                    NaN                          32.12Z   \n...                                  ...                             ...   \n999995                               NaN                           74.1C   \n999996                               NaN                           67.13   \n999997                               NaN                           62.12   \n999998                               NaN                          68.20B   \n999999                               NaN                           89.02   \n\n       nomenclatureActivitePrincipaleEtablissement  \\\n0                                          NAFRev2   \n1                                          NAFRev2   \n2                                          NAFRev2   \n3                                          NAFRev2   \n4                                          NAFRev2   \n...                                            ...   \n999995                                     NAF1993   \n999996                                         NAP   \n999997                                         NAP   \n999998                                     NAFRev2   \n999999                                         NAP   \n\n       caractereEmployeurEtablissement  \n0                                    N  \n1                                    N  \n2                                    N  \n3                                    N  \n4                                    N  \n...                                ...  \n999995                               N  \n999996                               N  \n999997                               N  \n999998                               N  \n999999                               N  \n\n[1000000 rows x 48 columns]",
      "text/html": "<div>\n<style scoped>\n    .dataframe tbody tr th:only-of-type {\n        vertical-align: middle;\n    }\n\n    .dataframe tbody tr th {\n        vertical-align: top;\n    }\n\n    .dataframe thead th {\n        text-align: right;\n    }\n</style>\n<table border=\"1\" class=\"dataframe\">\n  <thead>\n    <tr style=\"text-align: right;\">\n      <th></th>\n      <th>siren</th>\n      <th>nic</th>\n      <th>siret</th>\n      <th>statutDiffusionEtablissement</th>\n      <th>dateCreationEtablissement</th>\n      <th>trancheEffectifsEtablissement</th>\n      <th>anneeEffectifsEtablissement</th>\n      <th>activitePrincipaleRegistreMetiersEtablissement</th>\n      <th>dateDernierTraitementEtablissement</th>\n      <th>etablissementSiege</th>\n      <th>...</th>\n      <th>libellePaysEtranger2Etablissement</th>\n      <th>dateDebut</th>\n      <th>etatAdministratifEtablissement</th>\n      <th>enseigne1Etablissement</th>\n      <th>enseigne2Etablissement</th>\n      <th>enseigne3Etablissement</th>\n      <th>denominationUsuelleEtablissement</th>\n      <th>activitePrincipaleEtablissement</th>\n      <th>nomenclatureActivitePrincipaleEtablissement</th>\n      <th>caractereEmployeurEtablissement</th>\n    </tr>\n  </thead>\n  <tbody>\n    <tr>\n      <th>0</th>\n      <td>325175</td>\n      <td>16</td>\n      <td>32517500016</td>\n      <td>O</td>\n      <td>2000-09-26</td>\n      <td>NaN</td>\n      <td>NaN</td>\n      <td>3212ZZ</td>\n      <td>2015-03-18T00:58:59</td>\n      <td>False</td>\n      <td>...</td>\n      <td>NaN</td>\n      <td>2009-05-27</td>\n      <td>F</td>\n      <td>NaN</td>\n      <td>NaN</td>\n      <td>NaN</td>\n      <td>NaN</td>\n      <td>32.12Z</td>\n      <td>NAFRev2</td>\n      <td>N</td>\n    </tr>\n    <tr>\n      <th>1</th>\n      <td>325175</td>\n      <td>24</td>\n      <td>32517500024</td>\n      <td>O</td>\n      <td>2008-05-20</td>\n      <td>NaN</td>\n      <td>NaN</td>\n      <td>NaN</td>\n      <td>2011-12-12T09:40:04</td>\n      <td>False</td>\n      <td>...</td>\n      <td>NaN</td>\n      <td>2011-10-21</td>\n      <td>F</td>\n      <td>TAHITI PERLES CREATIONS</td>\n      <td>NaN</td>\n      <td>NaN</td>\n      <td>NaN</td>\n      <td>47.89Z</td>\n      <td>NAFRev2</td>\n      <td>N</td>\n    </tr>\n    <tr>\n      <th>2</th>\n      <td>325175</td>\n      <td>32</td>\n      <td>32517500032</td>\n      <td>O</td>\n      <td>2009-05-27</td>\n      <td>NaN</td>\n      <td>NaN</td>\n      <td>NaN</td>\n      <td>2014-07-08T00:10:21</td>\n      <td>False</td>\n      <td>...</td>\n      <td>NaN</td>\n      <td>2011-10-21</td>\n      <td>F</td>\n      <td>TAHITI PERLES CREATIONS</td>\n      <td>NaN</td>\n      <td>NaN</td>\n      <td>NaN</td>\n      <td>32.12Z</td>\n      <td>NAFRev2</td>\n      <td>N</td>\n    </tr>\n    <tr>\n      <th>3</th>\n      <td>325175</td>\n      <td>40</td>\n      <td>32517500040</td>\n      <td>O</td>\n      <td>2011-10-21</td>\n      <td>NaN</td>\n      <td>NaN</td>\n      <td>3212ZZ</td>\n      <td>2015-03-18T00:58:59</td>\n      <td>False</td>\n      <td>...</td>\n      <td>NaN</td>\n      <td>2014-01-07</td>\n      <td>F</td>\n      <td>TAHITI PERLES CREATION</td>\n      <td>NaN</td>\n      <td>NaN</td>\n      <td>NaN</td>\n      <td>32.12Z</td>\n      <td>NAFRev2</td>\n      <td>N</td>\n    </tr>\n    <tr>\n      <th>4</th>\n      <td>325175</td>\n      <td>57</td>\n      <td>32517500057</td>\n      <td>O</td>\n      <td>2014-01-07</td>\n      <td>NaN</td>\n      <td>NaN</td>\n      <td>NaN</td>\n      <td>2018-07-10T14:17:15</td>\n      <td>False</td>\n      <td>...</td>\n      <td>NaN</td>\n      <td>2018-02-07</td>\n      <td>F</td>\n      <td>TAHITI PERLES CREATION</td>\n      <td>NaN</td>\n      <td>NaN</td>\n      <td>NaN</td>\n      <td>32.12Z</td>\n      <td>NAFRev2</td>\n      <td>N</td>\n    </tr>\n    <tr>\n      <th>...</th>\n      <td>...</td>\n      <td>...</td>\n      <td>...</td>\n      <td>...</td>\n      <td>...</td>\n      <td>...</td>\n      <td>...</td>\n      <td>...</td>\n      <td>...</td>\n      <td>...</td>\n      <td>...</td>\n      <td>...</td>\n      <td>...</td>\n      <td>...</td>\n      <td>...</td>\n      <td>...</td>\n      <td>...</td>\n      <td>...</td>\n      <td>...</td>\n      <td>...</td>\n      <td>...</td>\n    </tr>\n    <tr>\n      <th>999995</th>\n      <td>305147969</td>\n      <td>29</td>\n      <td>30514796900029</td>\n      <td>O</td>\n      <td>NaN</td>\n      <td>NaN</td>\n      <td>NaN</td>\n      <td>NaN</td>\n      <td>NaN</td>\n      <td>True</td>\n      <td>...</td>\n      <td>NaN</td>\n      <td>1989-01-01</td>\n      <td>F</td>\n      <td>NaN</td>\n      <td>NaN</td>\n      <td>NaN</td>\n      <td>NaN</td>\n      <td>74.1C</td>\n      <td>NAF1993</td>\n      <td>N</td>\n    </tr>\n    <tr>\n      <th>999996</th>\n      <td>305147985</td>\n      <td>25</td>\n      <td>30514798500025</td>\n      <td>O</td>\n      <td>NaN</td>\n      <td>NaN</td>\n      <td>NaN</td>\n      <td>NaN</td>\n      <td>NaN</td>\n      <td>True</td>\n      <td>...</td>\n      <td>NaN</td>\n      <td>1990-02-28</td>\n      <td>F</td>\n      <td>NaN</td>\n      <td>NaN</td>\n      <td>NaN</td>\n      <td>NaN</td>\n      <td>67.13</td>\n      <td>NAP</td>\n      <td>N</td>\n    </tr>\n    <tr>\n      <th>999997</th>\n      <td>305148017</td>\n      <td>18</td>\n      <td>30514801700018</td>\n      <td>O</td>\n      <td>NaN</td>\n      <td>NaN</td>\n      <td>NaN</td>\n      <td>NaN</td>\n      <td>NaN</td>\n      <td>True</td>\n      <td>...</td>\n      <td>NaN</td>\n      <td>1990-12-07</td>\n      <td>F</td>\n      <td>NaN</td>\n      <td>NaN</td>\n      <td>NaN</td>\n      <td>NaN</td>\n      <td>62.12</td>\n      <td>NAP</td>\n      <td>N</td>\n    </tr>\n    <tr>\n      <th>999998</th>\n      <td>305148041</td>\n      <td>26</td>\n      <td>30514804100026</td>\n      <td>O</td>\n      <td>1980-01-01</td>\n      <td>NN</td>\n      <td>NaN</td>\n      <td>NaN</td>\n      <td>2019-11-14T14:00:38</td>\n      <td>True</td>\n      <td>...</td>\n      <td>NaN</td>\n      <td>2008-01-01</td>\n      <td>A</td>\n      <td>NaN</td>\n      <td>NaN</td>\n      <td>NaN</td>\n      <td>NaN</td>\n      <td>68.20B</td>\n      <td>NAFRev2</td>\n      <td>N</td>\n    </tr>\n    <tr>\n      <th>999999</th>\n      <td>305148074</td>\n      <td>19</td>\n      <td>30514807400019</td>\n      <td>O</td>\n      <td>NaN</td>\n      <td>NaN</td>\n      <td>NaN</td>\n      <td>NaN</td>\n      <td>2019-11-14T14:00:38</td>\n      <td>True</td>\n      <td>...</td>\n      <td>NaN</td>\n      <td>1987-10-07</td>\n      <td>F</td>\n      <td>NaN</td>\n      <td>NaN</td>\n      <td>NaN</td>\n      <td>NaN</td>\n      <td>89.02</td>\n      <td>NAP</td>\n      <td>N</td>\n    </tr>\n  </tbody>\n</table>\n<p>1000000 rows × 48 columns</p>\n</div>"
     },
     "execution_count": 74,
     "metadata": {},
     "output_type": "execute_result"
    }
   ],
   "source": [
    "stock_etablissement"
   ],
   "metadata": {
    "collapsed": false
   }
  },
  {
   "cell_type": "code",
   "execution_count": 63,
   "outputs": [
    {
     "data": {
      "text/plain": "304567"
     },
     "execution_count": 63,
     "metadata": {},
     "output_type": "execute_result"
    }
   ],
   "source": [
    "stock_unite_legale_merged['siren'].nunique()"
   ],
   "metadata": {
    "collapsed": false
   }
  },
  {
   "cell_type": "code",
   "execution_count": 49,
   "outputs": [],
   "source": [
    "stock_merged = stock_etablissement_merged.merge(stock_unite_legale_merged,on='siren')"
   ],
   "metadata": {
    "collapsed": false
   }
  },
  {
   "cell_type": "code",
   "execution_count": 50,
   "outputs": [
    {
     "data": {
      "text/plain": "            siren  nic           siret statutDiffusionEtablissement  \\\n0          325175   16     32517500016                            O   \n1          325175   24     32517500024                            O   \n2          325175   32     32517500032                            O   \n3          325175   40     32517500040                            O   \n4          325175   57     32517500057                            O   \n...           ...  ...             ...                          ...   \n394705  215103771   30  21510377100030                            O   \n394706  215103789   16  21510378900016                            O   \n394707  215103789   24  21510378900024                            O   \n394708  215103789   32  21510378900032                            O   \n394709  215103797   19  21510379700019                            O   \n\n       dateCreationEtablissement trancheEffectifsEtablissement  \\\n0                     2000-09-26                           NaN   \n1                     2008-05-20                           NaN   \n2                     2009-05-27                           NaN   \n3                     2011-10-21                           NaN   \n4                     2014-01-07                           NaN   \n...                          ...                           ...   \n394705                2009-12-25                            03   \n394706                1983-03-01                            02   \n394707                1983-12-21                            NN   \n394708                1995-12-25                            NN   \n394709                1983-03-01                            NN   \n\n        anneeEffectifsEtablissement  \\\n0                               NaN   \n1                               NaN   \n2                               NaN   \n3                               NaN   \n4                               NaN   \n...                             ...   \n394705                       2020.0   \n394706                       2020.0   \n394707                          NaN   \n394708                          NaN   \n394709                          NaN   \n\n       activitePrincipaleRegistreMetiersEtablissement  \\\n0                                              3212ZZ   \n1                                                 NaN   \n2                                                 NaN   \n3                                              3212ZZ   \n4                                                 NaN   \n...                                               ...   \n394705                                            NaN   \n394706                                            NaN   \n394707                                            NaN   \n394708                                            NaN   \n394709                                            NaN   \n\n       dateDernierTraitementEtablissement  etablissementSiege  ...  \\\n0                     2015-03-18T00:58:59               False  ...   \n1                     2011-12-12T09:40:04               False  ...   \n2                     2014-07-08T00:10:21               False  ...   \n3                     2015-03-18T00:58:59               False  ...   \n4                     2018-07-10T14:17:15               False  ...   \n...                                   ...                 ...  ...   \n394705                2022-08-29T09:07:33               False  ...   \n394706                2022-08-29T09:07:33                True  ...   \n394707                2021-10-27T08:08:45               False  ...   \n394708                2009-01-12T11:17:58               False  ...   \n394709                2020-08-25T10:17:36                True  ...   \n\n        changementNomUniteLegale changementNomUsageUniteLegale  \\\n0                          False                         False   \n1                          False                         False   \n2                          False                         False   \n3                          False                         False   \n4                          False                         False   \n...                          ...                           ...   \n394705                     False                         False   \n394706                     False                         False   \n394707                     False                         False   \n394708                     False                         False   \n394709                     False                         False   \n\n       changementDenominationUniteLegale  \\\n0                                  False   \n1                                  False   \n2                                  False   \n3                                  False   \n4                                  False   \n...                                  ...   \n394705                             False   \n394706                             False   \n394707                             False   \n394708                             False   \n394709                             False   \n\n       changementDenominationUsuelleUniteLegale  \\\n0                                         False   \n1                                         False   \n2                                         False   \n3                                         False   \n4                                         False   \n...                                         ...   \n394705                                    False   \n394706                                    False   \n394707                                    False   \n394708                                    False   \n394709                                    False   \n\n       changementCategorieJuridiqueUniteLegale  \\\n0                                        False   \n1                                        False   \n2                                        False   \n3                                        False   \n4                                        False   \n...                                        ...   \n394705                                   False   \n394706                                   False   \n394707                                   False   \n394708                                   False   \n394709                                   False   \n\n       changementActivitePrincipaleUniteLegale  changementNicSiegeUniteLegale  \\\n0                                        False                           True   \n1                                        False                           True   \n2                                        False                           True   \n3                                        False                           True   \n4                                        False                           True   \n...                                        ...                            ...   \n394705                                    True                          False   \n394706                                    True                          False   \n394707                                    True                          False   \n394708                                    True                          False   \n394709                                   False                          False   \n\n       changementEconomieSocialeSolidaireUniteLegale  \\\n0                                              False   \n1                                              False   \n2                                              False   \n3                                              False   \n4                                              False   \n...                                              ...   \n394705                                         False   \n394706                                         False   \n394707                                         False   \n394708                                         False   \n394709                                         False   \n\n       changementSocieteMissionUniteLegale  \\\n0                                    False   \n1                                    False   \n2                                    False   \n3                                    False   \n4                                    False   \n...                                    ...   \n394705                               False   \n394706                               False   \n394707                               False   \n394708                               False   \n394709                               False   \n\n       changementCaractereEmployeurUniteLegale  \n0                                        False  \n1                                        False  \n2                                        False  \n3                                        False  \n4                                        False  \n...                                        ...  \n394705                                   False  \n394706                                   False  \n394707                                   False  \n394708                                   False  \n394709                                   False  \n\n[394710 rows x 99 columns]",
      "text/html": "<div>\n<style scoped>\n    .dataframe tbody tr th:only-of-type {\n        vertical-align: middle;\n    }\n\n    .dataframe tbody tr th {\n        vertical-align: top;\n    }\n\n    .dataframe thead th {\n        text-align: right;\n    }\n</style>\n<table border=\"1\" class=\"dataframe\">\n  <thead>\n    <tr style=\"text-align: right;\">\n      <th></th>\n      <th>siren</th>\n      <th>nic</th>\n      <th>siret</th>\n      <th>statutDiffusionEtablissement</th>\n      <th>dateCreationEtablissement</th>\n      <th>trancheEffectifsEtablissement</th>\n      <th>anneeEffectifsEtablissement</th>\n      <th>activitePrincipaleRegistreMetiersEtablissement</th>\n      <th>dateDernierTraitementEtablissement</th>\n      <th>etablissementSiege</th>\n      <th>...</th>\n      <th>changementNomUniteLegale</th>\n      <th>changementNomUsageUniteLegale</th>\n      <th>changementDenominationUniteLegale</th>\n      <th>changementDenominationUsuelleUniteLegale</th>\n      <th>changementCategorieJuridiqueUniteLegale</th>\n      <th>changementActivitePrincipaleUniteLegale</th>\n      <th>changementNicSiegeUniteLegale</th>\n      <th>changementEconomieSocialeSolidaireUniteLegale</th>\n      <th>changementSocieteMissionUniteLegale</th>\n      <th>changementCaractereEmployeurUniteLegale</th>\n    </tr>\n  </thead>\n  <tbody>\n    <tr>\n      <th>0</th>\n      <td>325175</td>\n      <td>16</td>\n      <td>32517500016</td>\n      <td>O</td>\n      <td>2000-09-26</td>\n      <td>NaN</td>\n      <td>NaN</td>\n      <td>3212ZZ</td>\n      <td>2015-03-18T00:58:59</td>\n      <td>False</td>\n      <td>...</td>\n      <td>False</td>\n      <td>False</td>\n      <td>False</td>\n      <td>False</td>\n      <td>False</td>\n      <td>False</td>\n      <td>True</td>\n      <td>False</td>\n      <td>False</td>\n      <td>False</td>\n    </tr>\n    <tr>\n      <th>1</th>\n      <td>325175</td>\n      <td>24</td>\n      <td>32517500024</td>\n      <td>O</td>\n      <td>2008-05-20</td>\n      <td>NaN</td>\n      <td>NaN</td>\n      <td>NaN</td>\n      <td>2011-12-12T09:40:04</td>\n      <td>False</td>\n      <td>...</td>\n      <td>False</td>\n      <td>False</td>\n      <td>False</td>\n      <td>False</td>\n      <td>False</td>\n      <td>False</td>\n      <td>True</td>\n      <td>False</td>\n      <td>False</td>\n      <td>False</td>\n    </tr>\n    <tr>\n      <th>2</th>\n      <td>325175</td>\n      <td>32</td>\n      <td>32517500032</td>\n      <td>O</td>\n      <td>2009-05-27</td>\n      <td>NaN</td>\n      <td>NaN</td>\n      <td>NaN</td>\n      <td>2014-07-08T00:10:21</td>\n      <td>False</td>\n      <td>...</td>\n      <td>False</td>\n      <td>False</td>\n      <td>False</td>\n      <td>False</td>\n      <td>False</td>\n      <td>False</td>\n      <td>True</td>\n      <td>False</td>\n      <td>False</td>\n      <td>False</td>\n    </tr>\n    <tr>\n      <th>3</th>\n      <td>325175</td>\n      <td>40</td>\n      <td>32517500040</td>\n      <td>O</td>\n      <td>2011-10-21</td>\n      <td>NaN</td>\n      <td>NaN</td>\n      <td>3212ZZ</td>\n      <td>2015-03-18T00:58:59</td>\n      <td>False</td>\n      <td>...</td>\n      <td>False</td>\n      <td>False</td>\n      <td>False</td>\n      <td>False</td>\n      <td>False</td>\n      <td>False</td>\n      <td>True</td>\n      <td>False</td>\n      <td>False</td>\n      <td>False</td>\n    </tr>\n    <tr>\n      <th>4</th>\n      <td>325175</td>\n      <td>57</td>\n      <td>32517500057</td>\n      <td>O</td>\n      <td>2014-01-07</td>\n      <td>NaN</td>\n      <td>NaN</td>\n      <td>NaN</td>\n      <td>2018-07-10T14:17:15</td>\n      <td>False</td>\n      <td>...</td>\n      <td>False</td>\n      <td>False</td>\n      <td>False</td>\n      <td>False</td>\n      <td>False</td>\n      <td>False</td>\n      <td>True</td>\n      <td>False</td>\n      <td>False</td>\n      <td>False</td>\n    </tr>\n    <tr>\n      <th>...</th>\n      <td>...</td>\n      <td>...</td>\n      <td>...</td>\n      <td>...</td>\n      <td>...</td>\n      <td>...</td>\n      <td>...</td>\n      <td>...</td>\n      <td>...</td>\n      <td>...</td>\n      <td>...</td>\n      <td>...</td>\n      <td>...</td>\n      <td>...</td>\n      <td>...</td>\n      <td>...</td>\n      <td>...</td>\n      <td>...</td>\n      <td>...</td>\n      <td>...</td>\n      <td>...</td>\n    </tr>\n    <tr>\n      <th>394705</th>\n      <td>215103771</td>\n      <td>30</td>\n      <td>21510377100030</td>\n      <td>O</td>\n      <td>2009-12-25</td>\n      <td>03</td>\n      <td>2020.0</td>\n      <td>NaN</td>\n      <td>2022-08-29T09:07:33</td>\n      <td>False</td>\n      <td>...</td>\n      <td>False</td>\n      <td>False</td>\n      <td>False</td>\n      <td>False</td>\n      <td>False</td>\n      <td>True</td>\n      <td>False</td>\n      <td>False</td>\n      <td>False</td>\n      <td>False</td>\n    </tr>\n    <tr>\n      <th>394706</th>\n      <td>215103789</td>\n      <td>16</td>\n      <td>21510378900016</td>\n      <td>O</td>\n      <td>1983-03-01</td>\n      <td>02</td>\n      <td>2020.0</td>\n      <td>NaN</td>\n      <td>2022-08-29T09:07:33</td>\n      <td>True</td>\n      <td>...</td>\n      <td>False</td>\n      <td>False</td>\n      <td>False</td>\n      <td>False</td>\n      <td>False</td>\n      <td>True</td>\n      <td>False</td>\n      <td>False</td>\n      <td>False</td>\n      <td>False</td>\n    </tr>\n    <tr>\n      <th>394707</th>\n      <td>215103789</td>\n      <td>24</td>\n      <td>21510378900024</td>\n      <td>O</td>\n      <td>1983-12-21</td>\n      <td>NN</td>\n      <td>NaN</td>\n      <td>NaN</td>\n      <td>2021-10-27T08:08:45</td>\n      <td>False</td>\n      <td>...</td>\n      <td>False</td>\n      <td>False</td>\n      <td>False</td>\n      <td>False</td>\n      <td>False</td>\n      <td>True</td>\n      <td>False</td>\n      <td>False</td>\n      <td>False</td>\n      <td>False</td>\n    </tr>\n    <tr>\n      <th>394708</th>\n      <td>215103789</td>\n      <td>32</td>\n      <td>21510378900032</td>\n      <td>O</td>\n      <td>1995-12-25</td>\n      <td>NN</td>\n      <td>NaN</td>\n      <td>NaN</td>\n      <td>2009-01-12T11:17:58</td>\n      <td>False</td>\n      <td>...</td>\n      <td>False</td>\n      <td>False</td>\n      <td>False</td>\n      <td>False</td>\n      <td>False</td>\n      <td>True</td>\n      <td>False</td>\n      <td>False</td>\n      <td>False</td>\n      <td>False</td>\n    </tr>\n    <tr>\n      <th>394709</th>\n      <td>215103797</td>\n      <td>19</td>\n      <td>21510379700019</td>\n      <td>O</td>\n      <td>1983-03-01</td>\n      <td>NN</td>\n      <td>NaN</td>\n      <td>NaN</td>\n      <td>2020-08-25T10:17:36</td>\n      <td>True</td>\n      <td>...</td>\n      <td>False</td>\n      <td>False</td>\n      <td>False</td>\n      <td>False</td>\n      <td>False</td>\n      <td>False</td>\n      <td>False</td>\n      <td>False</td>\n      <td>False</td>\n      <td>False</td>\n    </tr>\n  </tbody>\n</table>\n<p>394710 rows × 99 columns</p>\n</div>"
     },
     "execution_count": 50,
     "metadata": {},
     "output_type": "execute_result"
    }
   ],
   "source": [
    "stock_merged"
   ],
   "metadata": {
    "collapsed": false
   }
  },
  {
   "cell_type": "markdown",
   "source": [],
   "metadata": {
    "collapsed": false
   }
  }
 ],
 "metadata": {
  "kernelspec": {
   "display_name": "Python 3",
   "language": "python",
   "name": "python3"
  },
  "language_info": {
   "codemirror_mode": {
    "name": "ipython",
    "version": 2
   },
   "file_extension": ".py",
   "mimetype": "text/x-python",
   "name": "python",
   "nbconvert_exporter": "python",
   "pygments_lexer": "ipython2",
   "version": "2.7.6"
  }
 },
 "nbformat": 4,
 "nbformat_minor": 0
}
