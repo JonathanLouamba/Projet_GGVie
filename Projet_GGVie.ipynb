{
 "cells": [
  {
   "cell_type": "markdown",
   "source": [
    "# Projet GGVIE : Détection de moments clés d'une entreprise"
   ],
   "metadata": {
    "collapsed": false
   }
  },
  {
   "cell_type": "code",
   "execution_count": 5,
   "outputs": [],
   "source": [
    "import pandas as pd\n",
    "import requests"
   ],
   "metadata": {
    "collapsed": false
   }
  },
  {
   "cell_type": "markdown",
   "source": [
    "### Lecture des données"
   ],
   "metadata": {
    "collapsed": false
   }
  },
  {
   "cell_type": "code",
   "execution_count": 67,
   "outputs": [
    {
     "ename": "ParserError",
     "evalue": "Error tokenizing data. C error: out of memory",
     "output_type": "error",
     "traceback": [
      "\u001B[1;31m---------------------------------------------------------------------------\u001B[0m",
      "\u001B[1;31mParserError\u001B[0m                               Traceback (most recent call last)",
      "\u001B[1;32m<ipython-input-67-3dfc9ecfc977>\u001B[0m in \u001B[0;36m<module>\u001B[1;34m\u001B[0m\n\u001B[0;32m      1\u001B[0m \u001B[1;31m# Stock etablissement historique\u001B[0m\u001B[1;33m\u001B[0m\u001B[1;33m\u001B[0m\u001B[1;33m\u001B[0m\u001B[0m\n\u001B[0;32m      2\u001B[0m \u001B[0mstock_etablissement_hist\u001B[0m \u001B[1;33m=\u001B[0m \u001B[0mpd\u001B[0m\u001B[1;33m.\u001B[0m\u001B[0mread_csv\u001B[0m\u001B[1;33m(\u001B[0m\u001B[1;34m\"../data_Projet_GGVie/StockEtablissementHistorique_utf8.csv\"\u001B[0m\u001B[1;33m,\u001B[0m \u001B[0mchunksize\u001B[0m\u001B[1;33m=\u001B[0m\u001B[1;36m1000000\u001B[0m\u001B[1;33m,\u001B[0m \u001B[0mlow_memory\u001B[0m\u001B[1;33m=\u001B[0m\u001B[1;32mFalse\u001B[0m\u001B[1;33m)\u001B[0m\u001B[1;33m\u001B[0m\u001B[1;33m\u001B[0m\u001B[0m\n\u001B[1;32m----> 3\u001B[1;33m \u001B[0mstock_etablissement_hist\u001B[0m \u001B[1;33m=\u001B[0m \u001B[0mpd\u001B[0m\u001B[1;33m.\u001B[0m\u001B[0mDataFrame\u001B[0m\u001B[1;33m(\u001B[0m\u001B[0mstock_etablissement_hist\u001B[0m\u001B[1;33m.\u001B[0m\u001B[0mget_chunk\u001B[0m\u001B[1;33m(\u001B[0m\u001B[1;36m1000000\u001B[0m\u001B[1;33m)\u001B[0m\u001B[1;33m)\u001B[0m\u001B[1;33m\u001B[0m\u001B[1;33m\u001B[0m\u001B[0m\n\u001B[0m\u001B[0;32m      4\u001B[0m \u001B[1;33m\u001B[0m\u001B[0m\n\u001B[0;32m      5\u001B[0m \u001B[1;31m# Stock etablissement\u001B[0m\u001B[1;33m\u001B[0m\u001B[1;33m\u001B[0m\u001B[1;33m\u001B[0m\u001B[0m\n",
      "\u001B[1;32m~\\anaconda3\\lib\\site-packages\\pandas\\io\\parsers.py\u001B[0m in \u001B[0;36mget_chunk\u001B[1;34m(self, size)\u001B[0m\n\u001B[0;32m   1165\u001B[0m                 \u001B[1;32mraise\u001B[0m \u001B[0mStopIteration\u001B[0m\u001B[1;33m\u001B[0m\u001B[1;33m\u001B[0m\u001B[0m\n\u001B[0;32m   1166\u001B[0m             \u001B[0msize\u001B[0m \u001B[1;33m=\u001B[0m \u001B[0mmin\u001B[0m\u001B[1;33m(\u001B[0m\u001B[0msize\u001B[0m\u001B[1;33m,\u001B[0m \u001B[0mself\u001B[0m\u001B[1;33m.\u001B[0m\u001B[0mnrows\u001B[0m \u001B[1;33m-\u001B[0m \u001B[0mself\u001B[0m\u001B[1;33m.\u001B[0m\u001B[0m_currow\u001B[0m\u001B[1;33m)\u001B[0m\u001B[1;33m\u001B[0m\u001B[1;33m\u001B[0m\u001B[0m\n\u001B[1;32m-> 1167\u001B[1;33m         \u001B[1;32mreturn\u001B[0m \u001B[0mself\u001B[0m\u001B[1;33m.\u001B[0m\u001B[0mread\u001B[0m\u001B[1;33m(\u001B[0m\u001B[0mnrows\u001B[0m\u001B[1;33m=\u001B[0m\u001B[0msize\u001B[0m\u001B[1;33m)\u001B[0m\u001B[1;33m\u001B[0m\u001B[1;33m\u001B[0m\u001B[0m\n\u001B[0m\u001B[0;32m   1168\u001B[0m \u001B[1;33m\u001B[0m\u001B[0m\n\u001B[0;32m   1169\u001B[0m \u001B[1;33m\u001B[0m\u001B[0m\n",
      "\u001B[1;32m~\\anaconda3\\lib\\site-packages\\pandas\\io\\parsers.py\u001B[0m in \u001B[0;36mread\u001B[1;34m(self, nrows)\u001B[0m\n\u001B[0;32m   1131\u001B[0m     \u001B[1;32mdef\u001B[0m \u001B[0mread\u001B[0m\u001B[1;33m(\u001B[0m\u001B[0mself\u001B[0m\u001B[1;33m,\u001B[0m \u001B[0mnrows\u001B[0m\u001B[1;33m=\u001B[0m\u001B[1;32mNone\u001B[0m\u001B[1;33m)\u001B[0m\u001B[1;33m:\u001B[0m\u001B[1;33m\u001B[0m\u001B[1;33m\u001B[0m\u001B[0m\n\u001B[0;32m   1132\u001B[0m         \u001B[0mnrows\u001B[0m \u001B[1;33m=\u001B[0m \u001B[0m_validate_integer\u001B[0m\u001B[1;33m(\u001B[0m\u001B[1;34m\"nrows\"\u001B[0m\u001B[1;33m,\u001B[0m \u001B[0mnrows\u001B[0m\u001B[1;33m)\u001B[0m\u001B[1;33m\u001B[0m\u001B[1;33m\u001B[0m\u001B[0m\n\u001B[1;32m-> 1133\u001B[1;33m         \u001B[0mret\u001B[0m \u001B[1;33m=\u001B[0m \u001B[0mself\u001B[0m\u001B[1;33m.\u001B[0m\u001B[0m_engine\u001B[0m\u001B[1;33m.\u001B[0m\u001B[0mread\u001B[0m\u001B[1;33m(\u001B[0m\u001B[0mnrows\u001B[0m\u001B[1;33m)\u001B[0m\u001B[1;33m\u001B[0m\u001B[1;33m\u001B[0m\u001B[0m\n\u001B[0m\u001B[0;32m   1134\u001B[0m \u001B[1;33m\u001B[0m\u001B[0m\n\u001B[0;32m   1135\u001B[0m         \u001B[1;31m# May alter columns / col_dict\u001B[0m\u001B[1;33m\u001B[0m\u001B[1;33m\u001B[0m\u001B[1;33m\u001B[0m\u001B[0m\n",
      "\u001B[1;32m~\\anaconda3\\lib\\site-packages\\pandas\\io\\parsers.py\u001B[0m in \u001B[0;36mread\u001B[1;34m(self, nrows)\u001B[0m\n\u001B[0;32m   2035\u001B[0m     \u001B[1;32mdef\u001B[0m \u001B[0mread\u001B[0m\u001B[1;33m(\u001B[0m\u001B[0mself\u001B[0m\u001B[1;33m,\u001B[0m \u001B[0mnrows\u001B[0m\u001B[1;33m=\u001B[0m\u001B[1;32mNone\u001B[0m\u001B[1;33m)\u001B[0m\u001B[1;33m:\u001B[0m\u001B[1;33m\u001B[0m\u001B[1;33m\u001B[0m\u001B[0m\n\u001B[0;32m   2036\u001B[0m         \u001B[1;32mtry\u001B[0m\u001B[1;33m:\u001B[0m\u001B[1;33m\u001B[0m\u001B[1;33m\u001B[0m\u001B[0m\n\u001B[1;32m-> 2037\u001B[1;33m             \u001B[0mdata\u001B[0m \u001B[1;33m=\u001B[0m \u001B[0mself\u001B[0m\u001B[1;33m.\u001B[0m\u001B[0m_reader\u001B[0m\u001B[1;33m.\u001B[0m\u001B[0mread\u001B[0m\u001B[1;33m(\u001B[0m\u001B[0mnrows\u001B[0m\u001B[1;33m)\u001B[0m\u001B[1;33m\u001B[0m\u001B[1;33m\u001B[0m\u001B[0m\n\u001B[0m\u001B[0;32m   2038\u001B[0m         \u001B[1;32mexcept\u001B[0m \u001B[0mStopIteration\u001B[0m\u001B[1;33m:\u001B[0m\u001B[1;33m\u001B[0m\u001B[1;33m\u001B[0m\u001B[0m\n\u001B[0;32m   2039\u001B[0m             \u001B[1;32mif\u001B[0m \u001B[0mself\u001B[0m\u001B[1;33m.\u001B[0m\u001B[0m_first_chunk\u001B[0m\u001B[1;33m:\u001B[0m\u001B[1;33m\u001B[0m\u001B[1;33m\u001B[0m\u001B[0m\n",
      "\u001B[1;32mpandas\\_libs\\parsers.pyx\u001B[0m in \u001B[0;36mpandas._libs.parsers.TextReader.read\u001B[1;34m()\u001B[0m\n",
      "\u001B[1;32mpandas\\_libs\\parsers.pyx\u001B[0m in \u001B[0;36mpandas._libs.parsers.TextReader._read_rows\u001B[1;34m()\u001B[0m\n",
      "\u001B[1;32mpandas\\_libs\\parsers.pyx\u001B[0m in \u001B[0;36mpandas._libs.parsers.TextReader._tokenize_rows\u001B[1;34m()\u001B[0m\n",
      "\u001B[1;32mpandas\\_libs\\parsers.pyx\u001B[0m in \u001B[0;36mpandas._libs.parsers.raise_parser_error\u001B[1;34m()\u001B[0m\n",
      "\u001B[1;31mParserError\u001B[0m: Error tokenizing data. C error: out of memory"
     ]
    }
   ],
   "source": [
    "# Stock etablissement historique\n",
    "stock_etablissement_hist = pd.read_csv(\"../data_Projet_GGVie/StockEtablissementHistorique_utf8.csv\", chunksize=1000000, low_memory=False)\n",
    "stock_etablissement_hist = pd.DataFrame(stock_etablissement_hist.get_chunk(1000000))\n",
    "\n",
    "# Stock etablissement\n",
    "stock_etablissement = pd.read_csv(\"../data_Projet_GGVie/StockEtablissement_utf8.csv\", chunksize=1000000, low_memory=False)\n",
    "stock_etablissement = pd.DataFrame(stock_etablissement.get_chunk(1000000))\n",
    "\n",
    "# Stock etablissement lien succession\n",
    "stock_etablissement_lien_succession = pd.read_csv(\"../data_Projet_GGVie/StockEtablissementLiensSuccession_utf8.csv\", chunksize=1000000, low_memory=False)\n",
    "stock_etablissement_lien_succession = pd.DataFrame(stock_etablissement_lien_succession.get_chunk(1000000))\n",
    "\n",
    "# Stock unite legale\n",
    "stock_unite_legale = pd.read_csv(\"../data_Projet_GGVie/StockUniteLegale_utf8.csv\", chunksize=1000000, low_memory=False)\n",
    "stock_unite_legale = pd.DataFrame(stock_unite_legale.get_chunk(1000000))\n",
    "\n",
    "# Stock unite legale historique\n",
    "stock_unite_legale_hist = pd.read_csv(\"../data_Projet_GGVie/StockUniteLegaleHistorique_utf8.csv\", chunksize=1000000, low_memory=False)\n",
    "stock_unite_legale_hist = pd.DataFrame(stock_unite_legale_hist.get_chunk(1000000))\n",
    "\n",
    "\"\"\"# Infogreffe 2022\n",
    "infogreffe_2022 = pd.read_csv(\"../data_Projet_GGVie/chiffres-cles-2022.csv\", chunksize=1000000,low_memory=False)\n",
    "infogreffe_2022 = pd.DataFrame(infogreffe_2022.get_chunk(1000000))\"\"\""
   ],
   "metadata": {
    "collapsed": false
   }
  },
  {
   "cell_type": "code",
   "execution_count": null,
   "outputs": [],
   "source": [
    "infogreffe_2022 = pd.read_csv(\"../data_Projet_GGVie/chiffres-cles-2022.csv\", chunksize=1000000,low_memory=False)"
   ],
   "metadata": {
    "collapsed": false
   }
  },
  {
   "cell_type": "code",
   "execution_count": 43,
   "outputs": [
    {
     "name": "stdout",
     "output_type": "stream",
     "text": [
      "Index(['siren', 'dateDebut'], dtype='object')\n"
     ]
    }
   ],
   "source": [
    "# Pour voir les colonnes en commun\n",
    "#print(stock_etablissement.columns.intersection(stock_etablissement_hist.columns))\n",
    "#print(stock_unite_legale.columns.intersection(stock_unite_legale_hist.columns))\n",
    "print(stock_unite_legale_hist.columns.intersection(stock_etablissement.columns))"
   ],
   "metadata": {
    "collapsed": false
   }
  },
  {
   "cell_type": "code",
   "execution_count": 44,
   "outputs": [
    {
     "ename": "AttributeError",
     "evalue": "'Series' object has no attribute 'intersection'",
     "output_type": "error",
     "traceback": [
      "\u001B[1;31m---------------------------------------------------------------------------\u001B[0m",
      "\u001B[1;31mAttributeError\u001B[0m                            Traceback (most recent call last)",
      "\u001B[1;32m<ipython-input-44-b9010d8b8664>\u001B[0m in \u001B[0;36m<module>\u001B[1;34m\u001B[0m\n\u001B[1;32m----> 1\u001B[1;33m \u001B[0mprint\u001B[0m\u001B[1;33m(\u001B[0m\u001B[0mstock_unite_legale_hist\u001B[0m\u001B[1;33m[\u001B[0m\u001B[1;34m'siren'\u001B[0m\u001B[1;33m]\u001B[0m\u001B[1;33m.\u001B[0m\u001B[0mintersection\u001B[0m\u001B[1;33m(\u001B[0m\u001B[0mstock_etablissement\u001B[0m\u001B[1;33m[\u001B[0m\u001B[1;34m'siren'\u001B[0m\u001B[1;33m]\u001B[0m\u001B[1;33m)\u001B[0m\u001B[1;33m)\u001B[0m\u001B[1;33m\u001B[0m\u001B[1;33m\u001B[0m\u001B[0m\n\u001B[0m",
      "\u001B[1;32m~\\anaconda3\\lib\\site-packages\\pandas\\core\\generic.py\u001B[0m in \u001B[0;36m__getattr__\u001B[1;34m(self, name)\u001B[0m\n\u001B[0;32m   5272\u001B[0m             \u001B[1;32mif\u001B[0m \u001B[0mself\u001B[0m\u001B[1;33m.\u001B[0m\u001B[0m_info_axis\u001B[0m\u001B[1;33m.\u001B[0m\u001B[0m_can_hold_identifiers_and_holds_name\u001B[0m\u001B[1;33m(\u001B[0m\u001B[0mname\u001B[0m\u001B[1;33m)\u001B[0m\u001B[1;33m:\u001B[0m\u001B[1;33m\u001B[0m\u001B[1;33m\u001B[0m\u001B[0m\n\u001B[0;32m   5273\u001B[0m                 \u001B[1;32mreturn\u001B[0m \u001B[0mself\u001B[0m\u001B[1;33m[\u001B[0m\u001B[0mname\u001B[0m\u001B[1;33m]\u001B[0m\u001B[1;33m\u001B[0m\u001B[1;33m\u001B[0m\u001B[0m\n\u001B[1;32m-> 5274\u001B[1;33m             \u001B[1;32mreturn\u001B[0m \u001B[0mobject\u001B[0m\u001B[1;33m.\u001B[0m\u001B[0m__getattribute__\u001B[0m\u001B[1;33m(\u001B[0m\u001B[0mself\u001B[0m\u001B[1;33m,\u001B[0m \u001B[0mname\u001B[0m\u001B[1;33m)\u001B[0m\u001B[1;33m\u001B[0m\u001B[1;33m\u001B[0m\u001B[0m\n\u001B[0m\u001B[0;32m   5275\u001B[0m \u001B[1;33m\u001B[0m\u001B[0m\n\u001B[0;32m   5276\u001B[0m     \u001B[1;32mdef\u001B[0m \u001B[0m__setattr__\u001B[0m\u001B[1;33m(\u001B[0m\u001B[0mself\u001B[0m\u001B[1;33m,\u001B[0m \u001B[0mname\u001B[0m\u001B[1;33m:\u001B[0m \u001B[0mstr\u001B[0m\u001B[1;33m,\u001B[0m \u001B[0mvalue\u001B[0m\u001B[1;33m)\u001B[0m \u001B[1;33m->\u001B[0m \u001B[1;32mNone\u001B[0m\u001B[1;33m:\u001B[0m\u001B[1;33m\u001B[0m\u001B[1;33m\u001B[0m\u001B[0m\n",
      "\u001B[1;31mAttributeError\u001B[0m: 'Series' object has no attribute 'intersection'"
     ]
    }
   ],
   "source": [
    "print(stock_unite_legale_hist['siren'].intersection(stock_etablissement['siren']))"
   ],
   "metadata": {
    "collapsed": false
   }
  },
  {
   "cell_type": "code",
   "execution_count": 46,
   "outputs": [],
   "source": [
    "common_elements = stock_unite_legale_hist[stock_unite_legale_hist['siren'].isin(stock_etablissement['siren'])]"
   ],
   "metadata": {
    "collapsed": false
   }
  },
  {
   "cell_type": "code",
   "execution_count": 47,
   "outputs": [
    {
     "data": {
      "text/plain": "            siren     dateFin   dateDebut etatAdministratifUniteLegale  \\\n0          325175         NaN  2018-02-07                            A   \n1          325175  2018-02-06  2014-01-07                            A   \n2          325175  2014-01-06  2011-10-21                            A   \n3          325175  2011-10-20  2009-05-27                            A   \n4          325175  2009-05-26  2008-01-01                            A   \n...           ...         ...         ...                          ...   \n999995  266301829  1987-12-31  1983-12-25                            A   \n999996  266301829  1983-12-24  1983-03-01                            A   \n999997  266301829  1983-02-28  1982-01-01                            A   \n999998  266301829  1981-12-31  1900-01-01                          NaN   \n999999  266301837         NaN  2016-01-01                            C   \n\n        changementEtatAdministratifUniteLegale nomUniteLegale  \\\n0                                        False        JANOYER   \n1                                        False        JANOYER   \n2                                        False        JANOYER   \n3                                        False        JANOYER   \n4                                        False        JANOYER   \n...                                        ...            ...   \n999995                                   False            NaN   \n999996                                   False            NaN   \n999997                                    True            NaN   \n999998                                   False            NaN   \n999999                                    True            NaN   \n\n        changementNomUniteLegale nomUsageUniteLegale  \\\n0                          False                 NaN   \n1                          False                 NaN   \n2                          False                 NaN   \n3                          False                 NaN   \n4                          False                 NaN   \n...                          ...                 ...   \n999995                     False                 NaN   \n999996                     False                 NaN   \n999997                     False                 NaN   \n999998                     False                 NaN   \n999999                     False                 NaN   \n\n        changementNomUsageUniteLegale              denominationUniteLegale  \\\n0                               False                                  NaN   \n1                               False                                  NaN   \n2                               False                                  NaN   \n3                               False                                  NaN   \n4                               False                                  NaN   \n...                               ...                                  ...   \n999995                          False  BUREAU D AIDE SOCIALE DE EGLISOLLES   \n999996                          False  BUREAU D AIDE SOCIALE DE EGLISOLLES   \n999997                          False  BUREAU D AIDE SOCIALE DE EGLISOLLES   \n999998                          False  BUREAU D AIDE SOCIALE DE EGLISOLLES   \n999999                          False     CENTRE COMMUNAL D'ACTION SOCIALE   \n\n        ...  nomenclatureActivitePrincipaleUniteLegale  \\\n0       ...                                    NAFRev2   \n1       ...                                    NAFRev2   \n2       ...                                    NAFRev2   \n3       ...                                    NAFRev2   \n4       ...                                    NAFRev2   \n...     ...                                        ...   \n999995  ...                                    NAF1993   \n999996  ...                                        NaN   \n999997  ...                                        NaN   \n999998  ...                                        NaN   \n999999  ...                                    NAFRev2   \n\n       changementActivitePrincipaleUniteLegale nicSiegeUniteLegale  \\\n0                                        False                65.0   \n1                                        False                57.0   \n2                                        False                40.0   \n3                                        False                32.0   \n4                                         True                16.0   \n...                                        ...                 ...   \n999995                                    True                13.0   \n999996                                   False                13.0   \n999997                                   False                13.0   \n999998                                   False                 NaN   \n999999                                   False                16.0   \n\n       changementNicSiegeUniteLegale  economieSocialeSolidaireUniteLegale  \\\n0                               True                                  NaN   \n1                               True                                  NaN   \n2                               True                                  NaN   \n3                               True                                  NaN   \n4                              False                                  NaN   \n...                              ...                                  ...   \n999995                         False                                  NaN   \n999996                         False                                  NaN   \n999997                          True                                  NaN   \n999998                         False                                  NaN   \n999999                         False                                  NaN   \n\n        changementEconomieSocialeSolidaireUniteLegale  \\\n0                                               False   \n1                                               False   \n2                                               False   \n3                                               False   \n4                                               False   \n...                                               ...   \n999995                                          False   \n999996                                          False   \n999997                                          False   \n999998                                          False   \n999999                                          False   \n\n        societeMissionUniteLegale changementSocieteMissionUniteLegale  \\\n0                             NaN                               False   \n1                             NaN                               False   \n2                             NaN                               False   \n3                             NaN                               False   \n4                             NaN                               False   \n...                           ...                                 ...   \n999995                        NaN                               False   \n999996                        NaN                               False   \n999997                        NaN                               False   \n999998                        NaN                               False   \n999999                        NaN                               False   \n\n       caractereEmployeurUniteLegale  changementCaractereEmployeurUniteLegale  \n0                                  N                                    False  \n1                                  N                                    False  \n2                                  N                                    False  \n3                                  N                                    False  \n4                                  N                                    False  \n...                              ...                                      ...  \n999995                             N                                    False  \n999996                             N                                     True  \n999997                           NaN                                    False  \n999998                           NaN                                    False  \n999999                             N                                    False  \n\n[999986 rows x 28 columns]",
      "text/html": "<div>\n<style scoped>\n    .dataframe tbody tr th:only-of-type {\n        vertical-align: middle;\n    }\n\n    .dataframe tbody tr th {\n        vertical-align: top;\n    }\n\n    .dataframe thead th {\n        text-align: right;\n    }\n</style>\n<table border=\"1\" class=\"dataframe\">\n  <thead>\n    <tr style=\"text-align: right;\">\n      <th></th>\n      <th>siren</th>\n      <th>dateFin</th>\n      <th>dateDebut</th>\n      <th>etatAdministratifUniteLegale</th>\n      <th>changementEtatAdministratifUniteLegale</th>\n      <th>nomUniteLegale</th>\n      <th>changementNomUniteLegale</th>\n      <th>nomUsageUniteLegale</th>\n      <th>changementNomUsageUniteLegale</th>\n      <th>denominationUniteLegale</th>\n      <th>...</th>\n      <th>nomenclatureActivitePrincipaleUniteLegale</th>\n      <th>changementActivitePrincipaleUniteLegale</th>\n      <th>nicSiegeUniteLegale</th>\n      <th>changementNicSiegeUniteLegale</th>\n      <th>economieSocialeSolidaireUniteLegale</th>\n      <th>changementEconomieSocialeSolidaireUniteLegale</th>\n      <th>societeMissionUniteLegale</th>\n      <th>changementSocieteMissionUniteLegale</th>\n      <th>caractereEmployeurUniteLegale</th>\n      <th>changementCaractereEmployeurUniteLegale</th>\n    </tr>\n  </thead>\n  <tbody>\n    <tr>\n      <th>0</th>\n      <td>325175</td>\n      <td>NaN</td>\n      <td>2018-02-07</td>\n      <td>A</td>\n      <td>False</td>\n      <td>JANOYER</td>\n      <td>False</td>\n      <td>NaN</td>\n      <td>False</td>\n      <td>NaN</td>\n      <td>...</td>\n      <td>NAFRev2</td>\n      <td>False</td>\n      <td>65.0</td>\n      <td>True</td>\n      <td>NaN</td>\n      <td>False</td>\n      <td>NaN</td>\n      <td>False</td>\n      <td>N</td>\n      <td>False</td>\n    </tr>\n    <tr>\n      <th>1</th>\n      <td>325175</td>\n      <td>2018-02-06</td>\n      <td>2014-01-07</td>\n      <td>A</td>\n      <td>False</td>\n      <td>JANOYER</td>\n      <td>False</td>\n      <td>NaN</td>\n      <td>False</td>\n      <td>NaN</td>\n      <td>...</td>\n      <td>NAFRev2</td>\n      <td>False</td>\n      <td>57.0</td>\n      <td>True</td>\n      <td>NaN</td>\n      <td>False</td>\n      <td>NaN</td>\n      <td>False</td>\n      <td>N</td>\n      <td>False</td>\n    </tr>\n    <tr>\n      <th>2</th>\n      <td>325175</td>\n      <td>2014-01-06</td>\n      <td>2011-10-21</td>\n      <td>A</td>\n      <td>False</td>\n      <td>JANOYER</td>\n      <td>False</td>\n      <td>NaN</td>\n      <td>False</td>\n      <td>NaN</td>\n      <td>...</td>\n      <td>NAFRev2</td>\n      <td>False</td>\n      <td>40.0</td>\n      <td>True</td>\n      <td>NaN</td>\n      <td>False</td>\n      <td>NaN</td>\n      <td>False</td>\n      <td>N</td>\n      <td>False</td>\n    </tr>\n    <tr>\n      <th>3</th>\n      <td>325175</td>\n      <td>2011-10-20</td>\n      <td>2009-05-27</td>\n      <td>A</td>\n      <td>False</td>\n      <td>JANOYER</td>\n      <td>False</td>\n      <td>NaN</td>\n      <td>False</td>\n      <td>NaN</td>\n      <td>...</td>\n      <td>NAFRev2</td>\n      <td>False</td>\n      <td>32.0</td>\n      <td>True</td>\n      <td>NaN</td>\n      <td>False</td>\n      <td>NaN</td>\n      <td>False</td>\n      <td>N</td>\n      <td>False</td>\n    </tr>\n    <tr>\n      <th>4</th>\n      <td>325175</td>\n      <td>2009-05-26</td>\n      <td>2008-01-01</td>\n      <td>A</td>\n      <td>False</td>\n      <td>JANOYER</td>\n      <td>False</td>\n      <td>NaN</td>\n      <td>False</td>\n      <td>NaN</td>\n      <td>...</td>\n      <td>NAFRev2</td>\n      <td>True</td>\n      <td>16.0</td>\n      <td>False</td>\n      <td>NaN</td>\n      <td>False</td>\n      <td>NaN</td>\n      <td>False</td>\n      <td>N</td>\n      <td>False</td>\n    </tr>\n    <tr>\n      <th>...</th>\n      <td>...</td>\n      <td>...</td>\n      <td>...</td>\n      <td>...</td>\n      <td>...</td>\n      <td>...</td>\n      <td>...</td>\n      <td>...</td>\n      <td>...</td>\n      <td>...</td>\n      <td>...</td>\n      <td>...</td>\n      <td>...</td>\n      <td>...</td>\n      <td>...</td>\n      <td>...</td>\n      <td>...</td>\n      <td>...</td>\n      <td>...</td>\n      <td>...</td>\n      <td>...</td>\n    </tr>\n    <tr>\n      <th>999995</th>\n      <td>266301829</td>\n      <td>1987-12-31</td>\n      <td>1983-12-25</td>\n      <td>A</td>\n      <td>False</td>\n      <td>NaN</td>\n      <td>False</td>\n      <td>NaN</td>\n      <td>False</td>\n      <td>BUREAU D AIDE SOCIALE DE EGLISOLLES</td>\n      <td>...</td>\n      <td>NAF1993</td>\n      <td>True</td>\n      <td>13.0</td>\n      <td>False</td>\n      <td>NaN</td>\n      <td>False</td>\n      <td>NaN</td>\n      <td>False</td>\n      <td>N</td>\n      <td>False</td>\n    </tr>\n    <tr>\n      <th>999996</th>\n      <td>266301829</td>\n      <td>1983-12-24</td>\n      <td>1983-03-01</td>\n      <td>A</td>\n      <td>False</td>\n      <td>NaN</td>\n      <td>False</td>\n      <td>NaN</td>\n      <td>False</td>\n      <td>BUREAU D AIDE SOCIALE DE EGLISOLLES</td>\n      <td>...</td>\n      <td>NaN</td>\n      <td>False</td>\n      <td>13.0</td>\n      <td>False</td>\n      <td>NaN</td>\n      <td>False</td>\n      <td>NaN</td>\n      <td>False</td>\n      <td>N</td>\n      <td>True</td>\n    </tr>\n    <tr>\n      <th>999997</th>\n      <td>266301829</td>\n      <td>1983-02-28</td>\n      <td>1982-01-01</td>\n      <td>A</td>\n      <td>True</td>\n      <td>NaN</td>\n      <td>False</td>\n      <td>NaN</td>\n      <td>False</td>\n      <td>BUREAU D AIDE SOCIALE DE EGLISOLLES</td>\n      <td>...</td>\n      <td>NaN</td>\n      <td>False</td>\n      <td>13.0</td>\n      <td>True</td>\n      <td>NaN</td>\n      <td>False</td>\n      <td>NaN</td>\n      <td>False</td>\n      <td>NaN</td>\n      <td>False</td>\n    </tr>\n    <tr>\n      <th>999998</th>\n      <td>266301829</td>\n      <td>1981-12-31</td>\n      <td>1900-01-01</td>\n      <td>NaN</td>\n      <td>False</td>\n      <td>NaN</td>\n      <td>False</td>\n      <td>NaN</td>\n      <td>False</td>\n      <td>BUREAU D AIDE SOCIALE DE EGLISOLLES</td>\n      <td>...</td>\n      <td>NaN</td>\n      <td>False</td>\n      <td>NaN</td>\n      <td>False</td>\n      <td>NaN</td>\n      <td>False</td>\n      <td>NaN</td>\n      <td>False</td>\n      <td>NaN</td>\n      <td>False</td>\n    </tr>\n    <tr>\n      <th>999999</th>\n      <td>266301837</td>\n      <td>NaN</td>\n      <td>2016-01-01</td>\n      <td>C</td>\n      <td>True</td>\n      <td>NaN</td>\n      <td>False</td>\n      <td>NaN</td>\n      <td>False</td>\n      <td>CENTRE COMMUNAL D'ACTION SOCIALE</td>\n      <td>...</td>\n      <td>NAFRev2</td>\n      <td>False</td>\n      <td>16.0</td>\n      <td>False</td>\n      <td>NaN</td>\n      <td>False</td>\n      <td>NaN</td>\n      <td>False</td>\n      <td>N</td>\n      <td>False</td>\n    </tr>\n  </tbody>\n</table>\n<p>999986 rows × 28 columns</p>\n</div>"
     },
     "execution_count": 47,
     "metadata": {},
     "output_type": "execute_result"
    }
   ],
   "source": [
    "common_elements"
   ],
   "metadata": {
    "collapsed": false
   }
  },
  {
   "cell_type": "markdown",
   "source": [
    "### Merge des données"
   ],
   "metadata": {
    "collapsed": false
   }
  },
  {
   "cell_type": "code",
   "execution_count": 54,
   "outputs": [],
   "source": [
    "# Sous-dataframe stock\n",
    "stock_merged = stock_unite_legale.merge(stock_etablissement,on='siren',how='left')\n",
    "\n",
    "# Sous-dataframe historiques\n",
    "stock_hist_merged = stock_unite_legale_hist.merge(stock_etablissement_hist,on=['siren','dateDebut','dateFin'],how='left')\n",
    "\n",
    "# Sous-dataframe unite legales\n",
    "stock_unite_legale_merged = stock_unite_legale.merge(stock_unite_legale_hist,on=['siren', 'dateDebut', 'etatAdministratifUniteLegale', 'nomUniteLegale',\n",
    "       'nomUsageUniteLegale', 'denominationUniteLegale',\n",
    "       'denominationUsuelle1UniteLegale', 'denominationUsuelle2UniteLegale',\n",
    "       'denominationUsuelle3UniteLegale', 'categorieJuridiqueUniteLegale',\n",
    "       'activitePrincipaleUniteLegale',\n",
    "       'nomenclatureActivitePrincipaleUniteLegale', 'nicSiegeUniteLegale',\n",
    "       'economieSocialeSolidaireUniteLegale', 'societeMissionUniteLegale',\n",
    "       'caractereEmployeurUniteLegale'],how='left')\n",
    "\n",
    "# Sous-dataframe etablissements\n",
    "stock_etablissement_merged = stock_etablissement.merge(stock_etablissement_hist,on=['siren', 'nic', 'siret', 'dateDebut', 'etatAdministratifEtablissement',\n",
    "       'enseigne1Etablissement', 'enseigne2Etablissement',\n",
    "       'enseigne3Etablissement', 'denominationUsuelleEtablissement',\n",
    "       'activitePrincipaleEtablissement',\n",
    "       'nomenclatureActivitePrincipaleEtablissement',\n",
    "       'caractereEmployeurEtablissement'])"
   ],
   "metadata": {
    "collapsed": false
   }
  },
  {
   "cell_type": "code",
   "execution_count": 41,
   "outputs": [
    {
     "data": {
      "text/plain": "1000000"
     },
     "execution_count": 41,
     "metadata": {},
     "output_type": "execute_result"
    }
   ],
   "source": [
    "stock_etablissement_merged"
   ],
   "metadata": {
    "collapsed": false
   }
  },
  {
   "cell_type": "code",
   "execution_count": 60,
   "outputs": [
    {
     "data": {
      "text/plain": "48"
     },
     "execution_count": 60,
     "metadata": {},
     "output_type": "execute_result"
    }
   ],
   "source": [
    "stock_etablissement.shape[1]"
   ],
   "metadata": {
    "collapsed": false
   }
  },
  {
   "cell_type": "code",
   "execution_count": 63,
   "outputs": [
    {
     "data": {
      "text/plain": "            siren  nic           siret statutDiffusionEtablissement  \\\n0          325175   16     32517500016                            O   \n1          325175   24     32517500024                            O   \n2          325175   32     32517500032                            O   \n3          325175   40     32517500040                            O   \n4          325175   57     32517500057                            O   \n...           ...  ...             ...                          ...   \n394705  215103771   30  21510377100030                            O   \n394706  215103789   16  21510378900016                            O   \n394707  215103789   24  21510378900024                            O   \n394708  215103789   32  21510378900032                            O   \n394709  215103797   19  21510379700019                            O   \n\n       dateCreationEtablissement trancheEffectifsEtablissement  \\\n0                     2000-09-26                           NaN   \n1                     2008-05-20                           NaN   \n2                     2009-05-27                           NaN   \n3                     2011-10-21                           NaN   \n4                     2014-01-07                           NaN   \n...                          ...                           ...   \n394705                2009-12-25                            03   \n394706                1983-03-01                            02   \n394707                1983-12-21                            NN   \n394708                1995-12-25                            NN   \n394709                1983-03-01                            NN   \n\n        anneeEffectifsEtablissement  \\\n0                               NaN   \n1                               NaN   \n2                               NaN   \n3                               NaN   \n4                               NaN   \n...                             ...   \n394705                       2020.0   \n394706                       2020.0   \n394707                          NaN   \n394708                          NaN   \n394709                          NaN   \n\n       activitePrincipaleRegistreMetiersEtablissement  \\\n0                                              3212ZZ   \n1                                                 NaN   \n2                                                 NaN   \n3                                              3212ZZ   \n4                                                 NaN   \n...                                               ...   \n394705                                            NaN   \n394706                                            NaN   \n394707                                            NaN   \n394708                                            NaN   \n394709                                            NaN   \n\n       dateDernierTraitementEtablissement  etablissementSiege  ...  \\\n0                     2015-03-18T00:58:59               False  ...   \n1                     2011-12-12T09:40:04               False  ...   \n2                     2014-07-08T00:10:21               False  ...   \n3                     2015-03-18T00:58:59               False  ...   \n4                     2018-07-10T14:17:15               False  ...   \n...                                   ...                 ...  ...   \n394705                2022-08-29T09:07:33               False  ...   \n394706                2022-08-29T09:07:33                True  ...   \n394707                2021-10-27T08:08:45               False  ...   \n394708                2009-01-12T11:17:58               False  ...   \n394709                2020-08-25T10:17:36                True  ...   \n\n        denominationUsuelleEtablissement activitePrincipaleEtablissement  \\\n0                                    NaN                          32.12Z   \n1                                    NaN                          47.89Z   \n2                                    NaN                          32.12Z   \n3                                    NaN                          32.12Z   \n4                                    NaN                          32.12Z   \n...                                  ...                             ...   \n394705                               NaN                          85.20Z   \n394706                               NaN                          84.11Z   \n394707                               NaN                          85.20Z   \n394708                               NaN                          36.00Z   \n394709                               NaN                          84.11Z   \n\n       nomenclatureActivitePrincipaleEtablissement  \\\n0                                          NAFRev2   \n1                                          NAFRev2   \n2                                          NAFRev2   \n3                                          NAFRev2   \n4                                          NAFRev2   \n...                                            ...   \n394705                                     NAFRev2   \n394706                                     NAFRev2   \n394707                                     NAFRev2   \n394708                                     NAFRev2   \n394709                                     NAFRev2   \n\n       caractereEmployeurEtablissement dateFin  \\\n0                                    N     NaN   \n1                                    N     NaN   \n2                                    N     NaN   \n3                                    N     NaN   \n4                                    N     NaN   \n...                                ...     ...   \n394705                               N     NaN   \n394706                               O     NaN   \n394707                               N     NaN   \n394708                               N     NaN   \n394709                               O     NaN   \n\n       changementEtatAdministratifEtablissement  \\\n0                                          True   \n1                                          True   \n2                                          True   \n3                                          True   \n4                                          True   \n...                                         ...   \n394705                                    False   \n394706                                    False   \n394707                                    False   \n394708                                    False   \n394709                                     True   \n\n        changementEnseigneEtablissement  \\\n0                                 False   \n1                                 False   \n2                                 False   \n3                                 False   \n4                                 False   \n...                                 ...   \n394705                            False   \n394706                            False   \n394707                             True   \n394708                            False   \n394709                            False   \n\n       changementDenominationUsuelleEtablissement  \\\n0                                           False   \n1                                           False   \n2                                           False   \n3                                           False   \n4                                           False   \n...                                           ...   \n394705                                      False   \n394706                                      False   \n394707                                      False   \n394708                                      False   \n394709                                      False   \n\n       changementActivitePrincipaleEtablissement  \\\n0                                          False   \n1                                          False   \n2                                          False   \n3                                          False   \n4                                          False   \n...                                          ...   \n394705                                     False   \n394706                                      True   \n394707                                     False   \n394708                                      True   \n394709                                     False   \n\n       changementCaractereEmployeurEtablissement  \n0                                          False  \n1                                          False  \n2                                          False  \n3                                          False  \n4                                          False  \n...                                          ...  \n394705                                     False  \n394706                                     False  \n394707                                     False  \n394708                                     False  \n394709                                     False  \n\n[394710 rows x 54 columns]",
      "text/html": "<div>\n<style scoped>\n    .dataframe tbody tr th:only-of-type {\n        vertical-align: middle;\n    }\n\n    .dataframe tbody tr th {\n        vertical-align: top;\n    }\n\n    .dataframe thead th {\n        text-align: right;\n    }\n</style>\n<table border=\"1\" class=\"dataframe\">\n  <thead>\n    <tr style=\"text-align: right;\">\n      <th></th>\n      <th>siren</th>\n      <th>nic</th>\n      <th>siret</th>\n      <th>statutDiffusionEtablissement</th>\n      <th>dateCreationEtablissement</th>\n      <th>trancheEffectifsEtablissement</th>\n      <th>anneeEffectifsEtablissement</th>\n      <th>activitePrincipaleRegistreMetiersEtablissement</th>\n      <th>dateDernierTraitementEtablissement</th>\n      <th>etablissementSiege</th>\n      <th>...</th>\n      <th>denominationUsuelleEtablissement</th>\n      <th>activitePrincipaleEtablissement</th>\n      <th>nomenclatureActivitePrincipaleEtablissement</th>\n      <th>caractereEmployeurEtablissement</th>\n      <th>dateFin</th>\n      <th>changementEtatAdministratifEtablissement</th>\n      <th>changementEnseigneEtablissement</th>\n      <th>changementDenominationUsuelleEtablissement</th>\n      <th>changementActivitePrincipaleEtablissement</th>\n      <th>changementCaractereEmployeurEtablissement</th>\n    </tr>\n  </thead>\n  <tbody>\n    <tr>\n      <th>0</th>\n      <td>325175</td>\n      <td>16</td>\n      <td>32517500016</td>\n      <td>O</td>\n      <td>2000-09-26</td>\n      <td>NaN</td>\n      <td>NaN</td>\n      <td>3212ZZ</td>\n      <td>2015-03-18T00:58:59</td>\n      <td>False</td>\n      <td>...</td>\n      <td>NaN</td>\n      <td>32.12Z</td>\n      <td>NAFRev2</td>\n      <td>N</td>\n      <td>NaN</td>\n      <td>True</td>\n      <td>False</td>\n      <td>False</td>\n      <td>False</td>\n      <td>False</td>\n    </tr>\n    <tr>\n      <th>1</th>\n      <td>325175</td>\n      <td>24</td>\n      <td>32517500024</td>\n      <td>O</td>\n      <td>2008-05-20</td>\n      <td>NaN</td>\n      <td>NaN</td>\n      <td>NaN</td>\n      <td>2011-12-12T09:40:04</td>\n      <td>False</td>\n      <td>...</td>\n      <td>NaN</td>\n      <td>47.89Z</td>\n      <td>NAFRev2</td>\n      <td>N</td>\n      <td>NaN</td>\n      <td>True</td>\n      <td>False</td>\n      <td>False</td>\n      <td>False</td>\n      <td>False</td>\n    </tr>\n    <tr>\n      <th>2</th>\n      <td>325175</td>\n      <td>32</td>\n      <td>32517500032</td>\n      <td>O</td>\n      <td>2009-05-27</td>\n      <td>NaN</td>\n      <td>NaN</td>\n      <td>NaN</td>\n      <td>2014-07-08T00:10:21</td>\n      <td>False</td>\n      <td>...</td>\n      <td>NaN</td>\n      <td>32.12Z</td>\n      <td>NAFRev2</td>\n      <td>N</td>\n      <td>NaN</td>\n      <td>True</td>\n      <td>False</td>\n      <td>False</td>\n      <td>False</td>\n      <td>False</td>\n    </tr>\n    <tr>\n      <th>3</th>\n      <td>325175</td>\n      <td>40</td>\n      <td>32517500040</td>\n      <td>O</td>\n      <td>2011-10-21</td>\n      <td>NaN</td>\n      <td>NaN</td>\n      <td>3212ZZ</td>\n      <td>2015-03-18T00:58:59</td>\n      <td>False</td>\n      <td>...</td>\n      <td>NaN</td>\n      <td>32.12Z</td>\n      <td>NAFRev2</td>\n      <td>N</td>\n      <td>NaN</td>\n      <td>True</td>\n      <td>False</td>\n      <td>False</td>\n      <td>False</td>\n      <td>False</td>\n    </tr>\n    <tr>\n      <th>4</th>\n      <td>325175</td>\n      <td>57</td>\n      <td>32517500057</td>\n      <td>O</td>\n      <td>2014-01-07</td>\n      <td>NaN</td>\n      <td>NaN</td>\n      <td>NaN</td>\n      <td>2018-07-10T14:17:15</td>\n      <td>False</td>\n      <td>...</td>\n      <td>NaN</td>\n      <td>32.12Z</td>\n      <td>NAFRev2</td>\n      <td>N</td>\n      <td>NaN</td>\n      <td>True</td>\n      <td>False</td>\n      <td>False</td>\n      <td>False</td>\n      <td>False</td>\n    </tr>\n    <tr>\n      <th>...</th>\n      <td>...</td>\n      <td>...</td>\n      <td>...</td>\n      <td>...</td>\n      <td>...</td>\n      <td>...</td>\n      <td>...</td>\n      <td>...</td>\n      <td>...</td>\n      <td>...</td>\n      <td>...</td>\n      <td>...</td>\n      <td>...</td>\n      <td>...</td>\n      <td>...</td>\n      <td>...</td>\n      <td>...</td>\n      <td>...</td>\n      <td>...</td>\n      <td>...</td>\n      <td>...</td>\n    </tr>\n    <tr>\n      <th>394705</th>\n      <td>215103771</td>\n      <td>30</td>\n      <td>21510377100030</td>\n      <td>O</td>\n      <td>2009-12-25</td>\n      <td>03</td>\n      <td>2020.0</td>\n      <td>NaN</td>\n      <td>2022-08-29T09:07:33</td>\n      <td>False</td>\n      <td>...</td>\n      <td>NaN</td>\n      <td>85.20Z</td>\n      <td>NAFRev2</td>\n      <td>N</td>\n      <td>NaN</td>\n      <td>False</td>\n      <td>False</td>\n      <td>False</td>\n      <td>False</td>\n      <td>False</td>\n    </tr>\n    <tr>\n      <th>394706</th>\n      <td>215103789</td>\n      <td>16</td>\n      <td>21510378900016</td>\n      <td>O</td>\n      <td>1983-03-01</td>\n      <td>02</td>\n      <td>2020.0</td>\n      <td>NaN</td>\n      <td>2022-08-29T09:07:33</td>\n      <td>True</td>\n      <td>...</td>\n      <td>NaN</td>\n      <td>84.11Z</td>\n      <td>NAFRev2</td>\n      <td>O</td>\n      <td>NaN</td>\n      <td>False</td>\n      <td>False</td>\n      <td>False</td>\n      <td>True</td>\n      <td>False</td>\n    </tr>\n    <tr>\n      <th>394707</th>\n      <td>215103789</td>\n      <td>24</td>\n      <td>21510378900024</td>\n      <td>O</td>\n      <td>1983-12-21</td>\n      <td>NN</td>\n      <td>NaN</td>\n      <td>NaN</td>\n      <td>2021-10-27T08:08:45</td>\n      <td>False</td>\n      <td>...</td>\n      <td>NaN</td>\n      <td>85.20Z</td>\n      <td>NAFRev2</td>\n      <td>N</td>\n      <td>NaN</td>\n      <td>False</td>\n      <td>True</td>\n      <td>False</td>\n      <td>False</td>\n      <td>False</td>\n    </tr>\n    <tr>\n      <th>394708</th>\n      <td>215103789</td>\n      <td>32</td>\n      <td>21510378900032</td>\n      <td>O</td>\n      <td>1995-12-25</td>\n      <td>NN</td>\n      <td>NaN</td>\n      <td>NaN</td>\n      <td>2009-01-12T11:17:58</td>\n      <td>False</td>\n      <td>...</td>\n      <td>NaN</td>\n      <td>36.00Z</td>\n      <td>NAFRev2</td>\n      <td>N</td>\n      <td>NaN</td>\n      <td>False</td>\n      <td>False</td>\n      <td>False</td>\n      <td>True</td>\n      <td>False</td>\n    </tr>\n    <tr>\n      <th>394709</th>\n      <td>215103797</td>\n      <td>19</td>\n      <td>21510379700019</td>\n      <td>O</td>\n      <td>1983-03-01</td>\n      <td>NN</td>\n      <td>NaN</td>\n      <td>NaN</td>\n      <td>2020-08-25T10:17:36</td>\n      <td>True</td>\n      <td>...</td>\n      <td>NaN</td>\n      <td>84.11Z</td>\n      <td>NAFRev2</td>\n      <td>O</td>\n      <td>NaN</td>\n      <td>True</td>\n      <td>False</td>\n      <td>False</td>\n      <td>False</td>\n      <td>False</td>\n    </tr>\n  </tbody>\n</table>\n<p>394710 rows × 54 columns</p>\n</div>"
     },
     "execution_count": 63,
     "metadata": {},
     "output_type": "execute_result"
    }
   ],
   "source": [
    "stock_etablissement_merged"
   ],
   "metadata": {
    "collapsed": false
   }
  },
  {
   "cell_type": "code",
   "execution_count": 12,
   "outputs": [
    {
     "data": {
      "text/plain": "304567"
     },
     "execution_count": 12,
     "metadata": {},
     "output_type": "execute_result"
    }
   ],
   "source": [
    "stock_unite_legale_merged['siren'].nunique()"
   ],
   "metadata": {
    "collapsed": false
   }
  },
  {
   "cell_type": "markdown",
   "source": [],
   "metadata": {
    "collapsed": false
   }
  }
 ],
 "metadata": {
  "kernelspec": {
   "display_name": "Python 3",
   "language": "python",
   "name": "python3"
  },
  "language_info": {
   "codemirror_mode": {
    "name": "ipython",
    "version": 2
   },
   "file_extension": ".py",
   "mimetype": "text/x-python",
   "name": "python",
   "nbconvert_exporter": "python",
   "pygments_lexer": "ipython2",
   "version": "2.7.6"
  }
 },
 "nbformat": 4,
 "nbformat_minor": 0
}
