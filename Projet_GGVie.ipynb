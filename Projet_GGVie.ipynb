{
 "cells": [
  {
   "cell_type": "code",
   "execution_count": 5,
   "outputs": [],
   "source": [
    "import pandas as pd\n",
    "import requests"
   ],
   "metadata": {
    "collapsed": false
   }
  },
  {
   "cell_type": "markdown",
   "source": [
    "### Lecture des données"
   ],
   "metadata": {
    "collapsed": false
   }
  },
  {
   "cell_type": "code",
   "execution_count": null,
   "outputs": [],
   "source": [
    "# Stock etablissement historique\n",
    "stock_etablissement_hist = pd.read_csv(\"../data_Projet_GGVie/StockEtablissementHistorique_utf8.csv\", chunksize=1000000)\n",
    "stock_etablissement_hist = pd.DataFrame(stock_etablissement_hist.get_chunk(1000000))\n",
    "\n",
    "# Stock etablissement\n",
    "stock_etablissement = pd.read_csv(\"../data_Projet_GGVie/StockEtablissement_utf8.csv\", chunksize=1000000)\n",
    "stock_etablissement = pd.DataFrame(stock_etablissement.get_chunk(1000000))\n",
    "\n",
    "# Stock etablissement lien succession\n",
    "stock_etablissement_lien_succession = pd.read_csv(\"../data_Projet_GGVie/StockEtablissementLiensSuccession_utf8.csv\", chunksize=1000000)\n",
    "stock_etablissement_lien_succession = pd.DataFrame(stock_etablissement_lien_succession.get_chunk(1000000))\n",
    "\n",
    "# Stock unite legale\n",
    "stock_unite_legale = pd.read_csv(\"../data_Projet_GGVie/StockUniteLegale_utf8.csv\", chunksize=1000000)\n",
    "stock_unite_legale = pd.DataFrame(stock_unite_legale.get_chunk(1000000))\n",
    "\n",
    "# Stock unite legale historique\n",
    "stock_unite_legale_hist = pd.read_csv(\"../data_Projet_GGVie/StockUniteLegaleHistorique_utf8.csv\", chunksize=1000000)\n",
    "stock_unite_legale_hist = pd.DataFrame(stock_unite_legale_hist.get_chunk(1000000))"
   ],
   "metadata": {
    "collapsed": false,
    "pycharm": {
     "is_executing": true
    }
   }
  },
  {
   "cell_type": "code",
   "execution_count": null,
   "outputs": [],
   "source": [
    "# Pour voir les colonnes en commun\n",
    "print(stock_etablissement.columns.intersection(stock_etablissement_hist.columns))\n",
    "print(stock_unite_legale.columns.intersection(stock_unite_legale_hist.columns))\n",
    "print(stock_unite_legale_hist.columns.intersection(stock_etablissement_hist.columns))"
   ],
   "metadata": {
    "collapsed": false,
    "pycharm": {
     "is_executing": true
    }
   }
  },
  {
   "cell_type": "markdown",
   "source": [
    "### Merge des données"
   ],
   "metadata": {
    "collapsed": false
   }
  },
  {
   "cell_type": "code",
   "execution_count": 32,
   "outputs": [],
   "source": [
    "# Merge des stock\n",
    "stock_merged = stock_unite_legale.merge(stock_etablissement,on='siren',how='left')\n",
    "\n",
    "# Merge des historiques\n",
    "stock_hist_merged = stock_unite_legale_hist.merge(stock_etablissement_hist,on=['siren','dateDebut','dateFin'],how='left')\n",
    "\n",
    "# Merge des unite legales\n",
    "stock_unite_legale_merged = stock_unite_legale.merge(stock_unite_legale_hist,on=['siren', 'dateDebut', 'etatAdministratifUniteLegale', 'nomUniteLegale',\n",
    "       'nomUsageUniteLegale', 'denominationUniteLegale',\n",
    "       'denominationUsuelle1UniteLegale', 'denominationUsuelle2UniteLegale',\n",
    "       'denominationUsuelle3UniteLegale', 'categorieJuridiqueUniteLegale',\n",
    "       'activitePrincipaleUniteLegale',\n",
    "       'nomenclatureActivitePrincipaleUniteLegale', 'nicSiegeUniteLegale',\n",
    "       'economieSocialeSolidaireUniteLegale', 'societeMissionUniteLegale',\n",
    "       'caractereEmployeurUniteLegale'],how='left')\n",
    "\n",
    "# Merge des etablissements\n",
    "stock_etablissement_merged = stock_etablissement.merge(stock_etablissement_hist,on=['siren', 'nic', 'siret', 'dateDebut', 'etatAdministratifEtablissement',\n",
    "       'enseigne1Etablissement', 'enseigne2Etablissement',\n",
    "       'enseigne3Etablissement', 'denominationUsuelleEtablissement',\n",
    "       'activitePrincipaleEtablissement',\n",
    "       'nomenclatureActivitePrincipaleEtablissement',\n",
    "       'caractereEmployeurEtablissement'],how='left')"
   ],
   "metadata": {
    "collapsed": false
   }
  },
  {
   "cell_type": "code",
   "execution_count": 34,
   "outputs": [
    {
     "data": {
      "text/plain": "             siren statutDiffusionUniteLegale unitePurgeeUniteLegale  \\\n0           325175                          O                    NaN   \n1           325175                          O                    NaN   \n2           325175                          O                    NaN   \n3           325175                          O                    NaN   \n4           325175                          O                    NaN   \n...            ...                        ...                    ...   \n1379389  312014335                          O                   True   \n1379390  312014343                          O                    NaN   \n1379391  312014350                          O                   True   \n1379392  312014368                          O                   True   \n1379393  312014376                          O                   True   \n\n        dateCreationUniteLegale sigleUniteLegale sexeUniteLegale  \\\n0                    2000-09-26              NaN               M   \n1                    2000-09-26              NaN               M   \n2                    2000-09-26              NaN               M   \n3                    2000-09-26              NaN               M   \n4                    2000-09-26              NaN               M   \n...                         ...              ...             ...   \n1379389                     NaN              NaN               F   \n1379390              1978-01-01              NaN               F   \n1379391              1978-01-01              NaN               M   \n1379392              1964-12-25              NaN               M   \n1379393              1978-01-01              NaN               M   \n\n        prenom1UniteLegale prenom2UniteLegale prenom3UniteLegale  \\\n0                  THIERRY                NaN                NaN   \n1                  THIERRY                NaN                NaN   \n2                  THIERRY                NaN                NaN   \n3                  THIERRY                NaN                NaN   \n4                  THIERRY                NaN                NaN   \n...                    ...                ...                ...   \n1379389           BRIGITTE                NaN                NaN   \n1379390           LUCIENNE                NaN                NaN   \n1379391            PATRICE             XAVIER              DENIS   \n1379392             GERARD            GERMAIN               JEAN   \n1379393              ROGER                NaN                NaN   \n\n        prenom4UniteLegale  ... libellePaysEtranger2Etablissement dateDebut_y  \\\n0                      NaN  ...                               NaN  2009-05-27   \n1                      NaN  ...                               NaN  2011-10-21   \n2                      NaN  ...                               NaN  2011-10-21   \n3                      NaN  ...                               NaN  2014-01-07   \n4                      NaN  ...                               NaN  2018-02-07   \n...                    ...  ...                               ...         ...   \n1379389                NaN  ...                               NaN         NaN   \n1379390                NaN  ...                               NaN         NaN   \n1379391                NaN  ...                               NaN         NaN   \n1379392                  B  ...                               NaN         NaN   \n1379393                NaN  ...                               NaN         NaN   \n\n        etatAdministratifEtablissement   enseigne1Etablissement  \\\n0                                    F                      NaN   \n1                                    F  TAHITI PERLES CREATIONS   \n2                                    F  TAHITI PERLES CREATIONS   \n3                                    F   TAHITI PERLES CREATION   \n4                                    F   TAHITI PERLES CREATION   \n...                                ...                      ...   \n1379389                            NaN                      NaN   \n1379390                            NaN                      NaN   \n1379391                            NaN                      NaN   \n1379392                            NaN                      NaN   \n1379393                            NaN                      NaN   \n\n         enseigne2Etablissement enseigne3Etablissement  \\\n0                           NaN                    NaN   \n1                           NaN                    NaN   \n2                           NaN                    NaN   \n3                           NaN                    NaN   \n4                           NaN                    NaN   \n...                         ...                    ...   \n1379389                     NaN                    NaN   \n1379390                     NaN                    NaN   \n1379391                     NaN                    NaN   \n1379392                     NaN                    NaN   \n1379393                     NaN                    NaN   \n\n         denominationUsuelleEtablissement activitePrincipaleEtablissement  \\\n0                                     NaN                          32.12Z   \n1                                     NaN                          47.89Z   \n2                                     NaN                          32.12Z   \n3                                     NaN                          32.12Z   \n4                                     NaN                          32.12Z   \n...                                   ...                             ...   \n1379389                               NaN                             NaN   \n1379390                               NaN                             NaN   \n1379391                               NaN                             NaN   \n1379392                               NaN                             NaN   \n1379393                               NaN                             NaN   \n\n         nomenclatureActivitePrincipaleEtablissement  \\\n0                                            NAFRev2   \n1                                            NAFRev2   \n2                                            NAFRev2   \n3                                            NAFRev2   \n4                                            NAFRev2   \n...                                              ...   \n1379389                                          NaN   \n1379390                                          NaN   \n1379391                                          NaN   \n1379392                                          NaN   \n1379393                                          NaN   \n\n        caractereEmployeurEtablissement  \n0                                     N  \n1                                     N  \n2                                     N  \n3                                     N  \n4                                     N  \n...                                 ...  \n1379389                             NaN  \n1379390                             NaN  \n1379391                             NaN  \n1379392                             NaN  \n1379393                             NaN  \n\n[1379394 rows x 81 columns]",
      "text/html": "<div>\n<style scoped>\n    .dataframe tbody tr th:only-of-type {\n        vertical-align: middle;\n    }\n\n    .dataframe tbody tr th {\n        vertical-align: top;\n    }\n\n    .dataframe thead th {\n        text-align: right;\n    }\n</style>\n<table border=\"1\" class=\"dataframe\">\n  <thead>\n    <tr style=\"text-align: right;\">\n      <th></th>\n      <th>siren</th>\n      <th>statutDiffusionUniteLegale</th>\n      <th>unitePurgeeUniteLegale</th>\n      <th>dateCreationUniteLegale</th>\n      <th>sigleUniteLegale</th>\n      <th>sexeUniteLegale</th>\n      <th>prenom1UniteLegale</th>\n      <th>prenom2UniteLegale</th>\n      <th>prenom3UniteLegale</th>\n      <th>prenom4UniteLegale</th>\n      <th>...</th>\n      <th>libellePaysEtranger2Etablissement</th>\n      <th>dateDebut_y</th>\n      <th>etatAdministratifEtablissement</th>\n      <th>enseigne1Etablissement</th>\n      <th>enseigne2Etablissement</th>\n      <th>enseigne3Etablissement</th>\n      <th>denominationUsuelleEtablissement</th>\n      <th>activitePrincipaleEtablissement</th>\n      <th>nomenclatureActivitePrincipaleEtablissement</th>\n      <th>caractereEmployeurEtablissement</th>\n    </tr>\n  </thead>\n  <tbody>\n    <tr>\n      <th>0</th>\n      <td>325175</td>\n      <td>O</td>\n      <td>NaN</td>\n      <td>2000-09-26</td>\n      <td>NaN</td>\n      <td>M</td>\n      <td>THIERRY</td>\n      <td>NaN</td>\n      <td>NaN</td>\n      <td>NaN</td>\n      <td>...</td>\n      <td>NaN</td>\n      <td>2009-05-27</td>\n      <td>F</td>\n      <td>NaN</td>\n      <td>NaN</td>\n      <td>NaN</td>\n      <td>NaN</td>\n      <td>32.12Z</td>\n      <td>NAFRev2</td>\n      <td>N</td>\n    </tr>\n    <tr>\n      <th>1</th>\n      <td>325175</td>\n      <td>O</td>\n      <td>NaN</td>\n      <td>2000-09-26</td>\n      <td>NaN</td>\n      <td>M</td>\n      <td>THIERRY</td>\n      <td>NaN</td>\n      <td>NaN</td>\n      <td>NaN</td>\n      <td>...</td>\n      <td>NaN</td>\n      <td>2011-10-21</td>\n      <td>F</td>\n      <td>TAHITI PERLES CREATIONS</td>\n      <td>NaN</td>\n      <td>NaN</td>\n      <td>NaN</td>\n      <td>47.89Z</td>\n      <td>NAFRev2</td>\n      <td>N</td>\n    </tr>\n    <tr>\n      <th>2</th>\n      <td>325175</td>\n      <td>O</td>\n      <td>NaN</td>\n      <td>2000-09-26</td>\n      <td>NaN</td>\n      <td>M</td>\n      <td>THIERRY</td>\n      <td>NaN</td>\n      <td>NaN</td>\n      <td>NaN</td>\n      <td>...</td>\n      <td>NaN</td>\n      <td>2011-10-21</td>\n      <td>F</td>\n      <td>TAHITI PERLES CREATIONS</td>\n      <td>NaN</td>\n      <td>NaN</td>\n      <td>NaN</td>\n      <td>32.12Z</td>\n      <td>NAFRev2</td>\n      <td>N</td>\n    </tr>\n    <tr>\n      <th>3</th>\n      <td>325175</td>\n      <td>O</td>\n      <td>NaN</td>\n      <td>2000-09-26</td>\n      <td>NaN</td>\n      <td>M</td>\n      <td>THIERRY</td>\n      <td>NaN</td>\n      <td>NaN</td>\n      <td>NaN</td>\n      <td>...</td>\n      <td>NaN</td>\n      <td>2014-01-07</td>\n      <td>F</td>\n      <td>TAHITI PERLES CREATION</td>\n      <td>NaN</td>\n      <td>NaN</td>\n      <td>NaN</td>\n      <td>32.12Z</td>\n      <td>NAFRev2</td>\n      <td>N</td>\n    </tr>\n    <tr>\n      <th>4</th>\n      <td>325175</td>\n      <td>O</td>\n      <td>NaN</td>\n      <td>2000-09-26</td>\n      <td>NaN</td>\n      <td>M</td>\n      <td>THIERRY</td>\n      <td>NaN</td>\n      <td>NaN</td>\n      <td>NaN</td>\n      <td>...</td>\n      <td>NaN</td>\n      <td>2018-02-07</td>\n      <td>F</td>\n      <td>TAHITI PERLES CREATION</td>\n      <td>NaN</td>\n      <td>NaN</td>\n      <td>NaN</td>\n      <td>32.12Z</td>\n      <td>NAFRev2</td>\n      <td>N</td>\n    </tr>\n    <tr>\n      <th>...</th>\n      <td>...</td>\n      <td>...</td>\n      <td>...</td>\n      <td>...</td>\n      <td>...</td>\n      <td>...</td>\n      <td>...</td>\n      <td>...</td>\n      <td>...</td>\n      <td>...</td>\n      <td>...</td>\n      <td>...</td>\n      <td>...</td>\n      <td>...</td>\n      <td>...</td>\n      <td>...</td>\n      <td>...</td>\n      <td>...</td>\n      <td>...</td>\n      <td>...</td>\n      <td>...</td>\n    </tr>\n    <tr>\n      <th>1379389</th>\n      <td>312014335</td>\n      <td>O</td>\n      <td>True</td>\n      <td>NaN</td>\n      <td>NaN</td>\n      <td>F</td>\n      <td>BRIGITTE</td>\n      <td>NaN</td>\n      <td>NaN</td>\n      <td>NaN</td>\n      <td>...</td>\n      <td>NaN</td>\n      <td>NaN</td>\n      <td>NaN</td>\n      <td>NaN</td>\n      <td>NaN</td>\n      <td>NaN</td>\n      <td>NaN</td>\n      <td>NaN</td>\n      <td>NaN</td>\n      <td>NaN</td>\n    </tr>\n    <tr>\n      <th>1379390</th>\n      <td>312014343</td>\n      <td>O</td>\n      <td>NaN</td>\n      <td>1978-01-01</td>\n      <td>NaN</td>\n      <td>F</td>\n      <td>LUCIENNE</td>\n      <td>NaN</td>\n      <td>NaN</td>\n      <td>NaN</td>\n      <td>...</td>\n      <td>NaN</td>\n      <td>NaN</td>\n      <td>NaN</td>\n      <td>NaN</td>\n      <td>NaN</td>\n      <td>NaN</td>\n      <td>NaN</td>\n      <td>NaN</td>\n      <td>NaN</td>\n      <td>NaN</td>\n    </tr>\n    <tr>\n      <th>1379391</th>\n      <td>312014350</td>\n      <td>O</td>\n      <td>True</td>\n      <td>1978-01-01</td>\n      <td>NaN</td>\n      <td>M</td>\n      <td>PATRICE</td>\n      <td>XAVIER</td>\n      <td>DENIS</td>\n      <td>NaN</td>\n      <td>...</td>\n      <td>NaN</td>\n      <td>NaN</td>\n      <td>NaN</td>\n      <td>NaN</td>\n      <td>NaN</td>\n      <td>NaN</td>\n      <td>NaN</td>\n      <td>NaN</td>\n      <td>NaN</td>\n      <td>NaN</td>\n    </tr>\n    <tr>\n      <th>1379392</th>\n      <td>312014368</td>\n      <td>O</td>\n      <td>True</td>\n      <td>1964-12-25</td>\n      <td>NaN</td>\n      <td>M</td>\n      <td>GERARD</td>\n      <td>GERMAIN</td>\n      <td>JEAN</td>\n      <td>B</td>\n      <td>...</td>\n      <td>NaN</td>\n      <td>NaN</td>\n      <td>NaN</td>\n      <td>NaN</td>\n      <td>NaN</td>\n      <td>NaN</td>\n      <td>NaN</td>\n      <td>NaN</td>\n      <td>NaN</td>\n      <td>NaN</td>\n    </tr>\n    <tr>\n      <th>1379393</th>\n      <td>312014376</td>\n      <td>O</td>\n      <td>True</td>\n      <td>1978-01-01</td>\n      <td>NaN</td>\n      <td>M</td>\n      <td>ROGER</td>\n      <td>NaN</td>\n      <td>NaN</td>\n      <td>NaN</td>\n      <td>...</td>\n      <td>NaN</td>\n      <td>NaN</td>\n      <td>NaN</td>\n      <td>NaN</td>\n      <td>NaN</td>\n      <td>NaN</td>\n      <td>NaN</td>\n      <td>NaN</td>\n      <td>NaN</td>\n      <td>NaN</td>\n    </tr>\n  </tbody>\n</table>\n<p>1379394 rows × 81 columns</p>\n</div>"
     },
     "execution_count": 34,
     "metadata": {},
     "output_type": "execute_result"
    }
   ],
   "source": [
    "stock_merged"
   ],
   "metadata": {
    "collapsed": false
   }
  },
  {
   "cell_type": "code",
   "execution_count": 12,
   "outputs": [
    {
     "data": {
      "text/plain": "304567"
     },
     "execution_count": 12,
     "metadata": {},
     "output_type": "execute_result"
    }
   ],
   "source": [
    "stock_unite_legale_merged['siren'].nunique()"
   ],
   "metadata": {
    "collapsed": false
   }
  },
  {
   "cell_type": "markdown",
   "source": [],
   "metadata": {
    "collapsed": false
   }
  }
 ],
 "metadata": {
  "kernelspec": {
   "display_name": "Python 3",
   "language": "python",
   "name": "python3"
  },
  "language_info": {
   "codemirror_mode": {
    "name": "ipython",
    "version": 2
   },
   "file_extension": ".py",
   "mimetype": "text/x-python",
   "name": "python",
   "nbconvert_exporter": "python",
   "pygments_lexer": "ipython2",
   "version": "2.7.6"
  }
 },
 "nbformat": 4,
 "nbformat_minor": 0
}
