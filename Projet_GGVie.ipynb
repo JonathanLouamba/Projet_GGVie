{
 "cells": [
  {
   "cell_type": "markdown",
   "source": [
    "# Projet GGVIE : Détection de moments clés d'une entreprise"
   ],
   "metadata": {
    "collapsed": false
   }
  },
  {
   "cell_type": "code",
   "execution_count": 3,
   "outputs": [],
   "source": [
    "import pandas as pd\n",
    "import requests"
   ],
   "metadata": {
    "collapsed": false
   }
  },
  {
   "cell_type": "markdown",
   "source": [
    "### Lecture des données"
   ],
   "metadata": {
    "collapsed": false
   }
  },
  {
   "cell_type": "code",
   "execution_count": null,
   "outputs": [],
   "source": [
    "# Stock etablissement historique\n",
    "stock_etablissement_hist = pd.read_csv(\"../data_Projet_GGVie/StockEtablissementHistorique_utf8.csv\", chunksize=1000000, low_memory=False)\n",
    "stock_etablissement_hist = pd.DataFrame(stock_etablissement_hist.get_chunk(1000000))\n",
    "\n",
    "# Stock etablissement\n",
    "stock_etablissement = pd.read_csv(\"../data_Projet_GGVie/StockEtablissement_utf8.csv\", chunksize=1000000, low_memory=False)\n",
    "stock_etablissement = pd.DataFrame(stock_etablissement.get_chunk(1000000))\n",
    "\n",
    "# Stock etablissement lien succession\n",
    "stock_etablissement_lien_succession = pd.read_csv(\"../data_Projet_GGVie/StockEtablissementLiensSuccession_utf8.csv\", chunksize=1000000, low_memory=False)\n",
    "stock_etablissement_lien_succession = pd.DataFrame(stock_etablissement_lien_succession.get_chunk(1000000))\n",
    "\n",
    "# Stock unite legale\n",
    "stock_unite_legale = pd.read_csv(\"../data_Projet_GGVie/StockUniteLegale_utf8.csv\", chunksize=1000000, low_memory=False)\n",
    "stock_unite_legale = pd.DataFrame(stock_unite_legale.get_chunk(1000000))\n",
    "\n",
    "# Stock unite legale historique\n",
    "stock_unite_legale_hist = pd.read_csv(\"../data_Projet_GGVie/StockUniteLegaleHistorique_utf8.csv\", chunksize=1000000, low_memory=False)\n",
    "stock_unite_legale_hist = pd.DataFrame(stock_unite_legale_hist.get_chunk(1000000))\n",
    "\n",
    "\"\"\"# Infogreffe 2022\n",
    "infogreffe_2022 = pd.read_csv(\"../data_Projet_GGVie/chiffres-cles-2022.csv\", chunksize=1000000,low_memory=False)\n",
    "infogreffe_2022 = pd.DataFrame(infogreffe_2022.get_chunk(1000000))\"\"\""
   ],
   "metadata": {
    "collapsed": false,
    "pycharm": {
     "is_executing": true
    }
   }
  },
  {
   "cell_type": "code",
   "execution_count": null,
   "outputs": [],
   "source": [
    "infogreffe_2022 = pd.read_csv(\"../data_Projet_GGVie/chiffres-cles-2022.csv\", chunksize=1000000,low_memory=False)"
   ],
   "metadata": {
    "collapsed": false,
    "pycharm": {
     "is_executing": true
    }
   }
  },
  {
   "cell_type": "code",
   "execution_count": null,
   "outputs": [],
   "source": [
    "# Pour voir les colonnes en commun\n",
    "#print(stock_etablissement.columns.intersection(stock_etablissement_hist.columns))\n",
    "#print(stock_unite_legale.columns.intersection(stock_unite_legale_hist.columns))\n",
    "print(stock_unite_legale_hist.columns.intersection(stock_etablissement.columns))"
   ],
   "metadata": {
    "collapsed": false,
    "pycharm": {
     "is_executing": true
    }
   }
  },
  {
   "cell_type": "code",
   "execution_count": null,
   "outputs": [],
   "source": [
    "print(stock_unite_legale_hist['siren'].intersection(stock_etablissement['siren']))"
   ],
   "metadata": {
    "collapsed": false,
    "pycharm": {
     "is_executing": true
    }
   }
  },
  {
   "cell_type": "code",
   "execution_count": null,
   "outputs": [],
   "source": [
    "common_elements = stock_unite_legale_hist[stock_unite_legale_hist['siren'].isin(stock_etablissement['siren'])]"
   ],
   "metadata": {
    "collapsed": false,
    "pycharm": {
     "is_executing": true
    }
   }
  },
  {
   "cell_type": "code",
   "execution_count": null,
   "outputs": [],
   "source": [
    "common_elements"
   ],
   "metadata": {
    "collapsed": false,
    "pycharm": {
     "is_executing": true
    }
   }
  },
  {
   "cell_type": "markdown",
   "source": [
    "### Merge des données"
   ],
   "metadata": {
    "collapsed": false
   }
  },
  {
   "cell_type": "code",
   "execution_count": null,
   "outputs": [],
   "source": [
    "# Sous-dataframe stock\n",
    "stock_merged = stock_unite_legale.merge(stock_etablissement,on='siren',how='left')\n",
    "\n",
    "# Sous-dataframe historiques\n",
    "stock_hist_merged = stock_unite_legale_hist.merge(stock_etablissement_hist,on=['siren','dateDebut','dateFin'],how='left')\n",
    "\n",
    "# Sous-dataframe unite legales\n",
    "stock_unite_legale_merged = stock_unite_legale.merge(stock_unite_legale_hist,on=['siren', 'dateDebut', 'etatAdministratifUniteLegale', 'nomUniteLegale',\n",
    "       'nomUsageUniteLegale', 'denominationUniteLegale',\n",
    "       'denominationUsuelle1UniteLegale', 'denominationUsuelle2UniteLegale',\n",
    "       'denominationUsuelle3UniteLegale', 'categorieJuridiqueUniteLegale',\n",
    "       'activitePrincipaleUniteLegale',\n",
    "       'nomenclatureActivitePrincipaleUniteLegale', 'nicSiegeUniteLegale',\n",
    "       'economieSocialeSolidaireUniteLegale', 'societeMissionUniteLegale',\n",
    "       'caractereEmployeurUniteLegale'],how='left')\n",
    "\n",
    "# Sous-dataframe etablissements\n",
    "stock_etablissement_merged = stock_etablissement.merge(stock_etablissement_hist,on=['siren', 'nic', 'siret', 'dateDebut', 'etatAdministratifEtablissement',\n",
    "       'enseigne1Etablissement', 'enseigne2Etablissement',\n",
    "       'enseigne3Etablissement', 'denominationUsuelleEtablissement',\n",
    "       'activitePrincipaleEtablissement',\n",
    "       'nomenclatureActivitePrincipaleEtablissement',\n",
    "       'caractereEmployeurEtablissement'])"
   ],
   "metadata": {
    "collapsed": false,
    "pycharm": {
     "is_executing": true
    }
   }
  },
  {
   "cell_type": "code",
   "execution_count": null,
   "outputs": [],
   "source": [
    "stock_etablissement_merged"
   ],
   "metadata": {
    "collapsed": false,
    "pycharm": {
     "is_executing": true
    }
   }
  },
  {
   "cell_type": "code",
   "execution_count": null,
   "outputs": [],
   "source": [
    "stock_etablissement.shape[1]"
   ],
   "metadata": {
    "collapsed": false,
    "pycharm": {
     "is_executing": true
    }
   }
  },
  {
   "cell_type": "code",
   "execution_count": null,
   "outputs": [],
   "source": [
    "stock_etablissement_merged"
   ],
   "metadata": {
    "collapsed": false,
    "pycharm": {
     "is_executing": true
    }
   }
  },
  {
   "cell_type": "code",
   "execution_count": null,
   "outputs": [],
   "source": [
    "stock_unite_legale_merged['siren'].nunique()"
   ],
   "metadata": {
    "collapsed": false,
    "pycharm": {
     "is_executing": true
    }
   }
  },
  {
   "cell_type": "markdown",
   "source": [],
   "metadata": {
    "collapsed": false
   }
  }
 ],
 "metadata": {
  "kernelspec": {
   "display_name": "Python 3",
   "language": "python",
   "name": "python3"
  },
  "language_info": {
   "codemirror_mode": {
    "name": "ipython",
    "version": 2
   },
   "file_extension": ".py",
   "mimetype": "text/x-python",
   "name": "python",
   "nbconvert_exporter": "python",
   "pygments_lexer": "ipython2",
   "version": "2.7.6"
  }
 },
 "nbformat": 4,
 "nbformat_minor": 0
}
