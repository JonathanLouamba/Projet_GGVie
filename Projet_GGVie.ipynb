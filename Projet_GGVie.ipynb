{
 "cells": [
  {
   "cell_type": "markdown",
   "source": [
    "# Projet GGVIE : Détection de moments clés d'une entreprise"
   ],
   "metadata": {
    "collapsed": false
   }
  },
  {
   "cell_type": "code",
   "execution_count": 5,
   "outputs": [],
   "source": [
    "import pandas as pd\n",
    "import requests"
   ],
   "metadata": {
    "collapsed": false
   }
  },
  {
   "cell_type": "markdown",
   "source": [
    "### Lecture des données"
   ],
   "metadata": {
    "collapsed": false
   }
  },
  {
   "cell_type": "code",
   "execution_count": null,
   "outputs": [],
   "source": [
    "# Stock etablissement historique\n",
    "stock_etablissement_hist = pd.read_csv(\"../data_Projet_GGVie/StockEtablissementHistorique_utf8.csv\", chunksize=1000000)\n",
    "stock_etablissement_hist = pd.DataFrame(stock_etablissement_hist.get_chunk(1000000))\n",
    "\n",
    "# Stock etablissement\n",
    "stock_etablissement = pd.read_csv(\"../data_Projet_GGVie/StockEtablissement_utf8.csv\", chunksize=1000000)\n",
    "stock_etablissement = pd.DataFrame(stock_etablissement.get_chunk(1000000))\n",
    "\n",
    "# Stock etablissement lien succession\n",
    "stock_etablissement_lien_succession = pd.read_csv(\"../data_Projet_GGVie/StockEtablissementLiensSuccession_utf8.csv\", chunksize=1000000)\n",
    "stock_etablissement_lien_succession = pd.DataFrame(stock_etablissement_lien_succession.get_chunk(1000000))\n",
    "\n",
    "# Stock unite legale\n",
    "stock_unite_legale = pd.read_csv(\"../data_Projet_GGVie/StockUniteLegale_utf8.csv\", chunksize=1000000)\n",
    "stock_unite_legale = pd.DataFrame(stock_unite_legale.get_chunk(1000000))\n",
    "\n",
    "# Stock unite legale historique\n",
    "stock_unite_legale_hist = pd.read_csv(\"../data_Projet_GGVie/StockUniteLegaleHistorique_utf8.csv\", chunksize=1000000)\n",
    "stock_unite_legale_hist = pd.DataFrame(stock_unite_legale_hist.get_chunk(1000000))"
   ],
   "metadata": {
    "collapsed": false,
    "pycharm": {
     "is_executing": true
    }
   }
  },
  {
   "cell_type": "code",
   "execution_count": null,
   "outputs": [],
   "source": [
    "# Pour voir les colonnes en commun\n",
    "print(stock_etablissement.columns.intersection(stock_etablissement_hist.columns))\n",
    "print(stock_unite_legale.columns.intersection(stock_unite_legale_hist.columns))\n",
    "print(stock_unite_legale_hist.columns.intersection(stock_etablissement_hist.columns))"
   ],
   "metadata": {
    "collapsed": false,
    "pycharm": {
     "is_executing": true
    }
   }
  },
  {
   "cell_type": "markdown",
   "source": [
    "### Merge des données"
   ],
   "metadata": {
    "collapsed": false
   }
  },
  {
   "cell_type": "code",
   "execution_count": 40,
   "outputs": [],
   "source": [
    "# Sous-dataframe stock\n",
    "stock_merged = stock_unite_legale.merge(stock_etablissement,on='siren')\n",
    "\n",
    "# Sous-dataframe historiques\n",
    "stock_hist_merged = stock_unite_legale_hist.merge(stock_etablissement_hist,on=['siren','dateDebut','dateFin'],how='left')\n",
    "\n",
    "# Sous-dataframe unite legales\n",
    "stock_unite_legale_merged = stock_unite_legale.merge(stock_unite_legale_hist,on=['siren', 'dateDebut', 'etatAdministratifUniteLegale', 'nomUniteLegale',\n",
    "       'nomUsageUniteLegale', 'denominationUniteLegale',\n",
    "       'denominationUsuelle1UniteLegale', 'denominationUsuelle2UniteLegale',\n",
    "       'denominationUsuelle3UniteLegale', 'categorieJuridiqueUniteLegale',\n",
    "       'activitePrincipaleUniteLegale',\n",
    "       'nomenclatureActivitePrincipaleUniteLegale', 'nicSiegeUniteLegale',\n",
    "       'economieSocialeSolidaireUniteLegale', 'societeMissionUniteLegale',\n",
    "       'caractereEmployeurUniteLegale'],how='left')\n",
    "\n",
    "# Sous-dataframe etablissements\n",
    "stock_etablissement_merged = stock_etablissement.merge(stock_etablissement_hist,on=['siren', 'nic', 'siret', 'dateDebut', 'etatAdministratifEtablissement',\n",
    "       'enseigne1Etablissement', 'enseigne2Etablissement',\n",
    "       'enseigne3Etablissement', 'denominationUsuelleEtablissement',\n",
    "       'activitePrincipaleEtablissement',\n",
    "       'nomenclatureActivitePrincipaleEtablissement',\n",
    "       'caractereEmployeurEtablissement'],how='left')"
   ],
   "metadata": {
    "collapsed": false
   }
  },
  {
   "cell_type": "code",
   "execution_count": 41,
   "outputs": [
    {
     "data": {
      "text/plain": "1000000"
     },
     "execution_count": 41,
     "metadata": {},
     "output_type": "execute_result"
    }
   ],
   "source": [
    "stock_merged.shape[0]"
   ],
   "metadata": {
    "collapsed": false
   }
  },
  {
   "cell_type": "code",
   "execution_count": 39,
   "outputs": [
    {
     "data": {
      "text/plain": "1074298"
     },
     "execution_count": 39,
     "metadata": {},
     "output_type": "execute_result"
    }
   ],
   "source": [
    "stock_hist_merged.shape[0]"
   ],
   "metadata": {
    "collapsed": false
   }
  },
  {
   "cell_type": "code",
   "execution_count": 12,
   "outputs": [
    {
     "data": {
      "text/plain": "304567"
     },
     "execution_count": 12,
     "metadata": {},
     "output_type": "execute_result"
    }
   ],
   "source": [
    "stock_unite_legale_merged['siren'].nunique()"
   ],
   "metadata": {
    "collapsed": false
   }
  },
  {
   "cell_type": "markdown",
   "source": [],
   "metadata": {
    "collapsed": false
   }
  }
 ],
 "metadata": {
  "kernelspec": {
   "display_name": "Python 3",
   "language": "python",
   "name": "python3"
  },
  "language_info": {
   "codemirror_mode": {
    "name": "ipython",
    "version": 2
   },
   "file_extension": ".py",
   "mimetype": "text/x-python",
   "name": "python",
   "nbconvert_exporter": "python",
   "pygments_lexer": "ipython2",
   "version": "2.7.6"
  }
 },
 "nbformat": 4,
 "nbformat_minor": 0
}
