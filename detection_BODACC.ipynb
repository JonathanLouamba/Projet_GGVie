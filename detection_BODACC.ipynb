{
 "cells": [
  {
   "cell_type": "code",
   "execution_count": 25,
   "metadata": {
    "collapsed": true
   },
   "outputs": [],
   "source": [
    "import requests\n",
    "import pandas as pd\n",
    "import json"
   ]
  },
  {
   "cell_type": "code",
   "execution_count": 45,
   "outputs": [],
   "source": [
    "r = requests.get(\"https://bodacc-datadila.opendatasoft.com/api/records/1.0/search/?dataset=annonces-commerciales&q=&rows=1000&sort=dateparution&facet=publicationavis&facet=publicationavis_facette&facet=typeavis&facet=typeavis_lib&facet=familleavis&facet=familleavis_lib&facet=numerodepartement&facet=departement_nom_officiel\")"
   ],
   "metadata": {
    "collapsed": false
   }
  },
  {
   "cell_type": "code",
   "execution_count": 46,
   "outputs": [
    {
     "data": {
      "text/plain": "str"
     },
     "execution_count": 46,
     "metadata": {},
     "output_type": "execute_result"
    }
   ],
   "source": [
    "type(r.text)"
   ],
   "metadata": {
    "collapsed": false
   }
  },
  {
   "cell_type": "code",
   "execution_count": 47,
   "outputs": [],
   "source": [
    "r = json.loads(r.text)"
   ],
   "metadata": {
    "collapsed": false
   }
  },
  {
   "cell_type": "code",
   "execution_count": 48,
   "outputs": [
    {
     "data": {
      "text/plain": "{'typePersonne': 'pm',\n 'numeroImmatriculation': {'numeroIdentification': '884 337 270',\n  'codeRCS': 'RCS',\n  'nomGreffeImmat': 'Marseille'},\n 'denomination': 'PRO-COM',\n 'activite': \"commercialisation, en vente à domicile ou en points de vente, de tous contrats de télécommunication (accès internet, téléphonie fixe ou mobile, etc), de fourniture de tous types d'énergie (électricité, eau, gaz, etc.), de tous systèmes d'alarme et de télésurveillance.l'installation et la maintenance de tous systèmes et réseaux de télécommunication et de télésurveillance.\",\n 'formeJuridique': 'Société par actions simplifiée',\n 'adresseSiegeSocial': {'numeroVoie': '10',\n  'typeVoie': 'avenue',\n  'nomVoie': 'Emmanuel Allard',\n  'complGeographique': 'Lot 1-Bât a',\n  'codePostal': '13011',\n  'ville': 'Marseille'}}"
     },
     "execution_count": 48,
     "metadata": {},
     "output_type": "execute_result"
    }
   ],
   "source": [
    "json.loads(r['records'][0]['fields']['listepersonnes'])['personne']"
   ],
   "metadata": {
    "collapsed": false
   }
  },
  {
   "cell_type": "code",
   "execution_count": 49,
   "outputs": [
    {
     "data": {
      "text/plain": "'2023-02-15'"
     },
     "execution_count": 49,
     "metadata": {},
     "output_type": "execute_result"
    }
   ],
   "source": [
    "json.loads(r['records'][0]['fields']['jugement'])['date']"
   ],
   "metadata": {
    "collapsed": false
   }
  },
  {
   "cell_type": "code",
   "execution_count": 62,
   "outputs": [],
   "source": [
    "d = {'publicationavis': [], 'numeroIdentification': [], 'denomination': [],'formeJuridique': [], 'natureJugement': [],'dateJugement': []\n",
    ",'registre':[],'ispdf_unitaire':[],'cp':[],'jugement':[],'commercant':[],'dateparution':[],'tribunal':[], 'typeavis':[],'familleavis_lib':[]}"
   ],
   "metadata": {
    "collapsed": false
   }
  },
  {
   "cell_type": "code",
   "execution_count": 63,
   "outputs": [],
   "source": [
    "for i,_ in enumerate(r['records']):\n",
    "    d['publicationavis'].append(r['records'][i]['fields']['publicationavis'])\n",
    "    try:\n",
    "        d['numeroIdentification'].append(json.loads(r['records'][i]['fields']['listepersonnes'])['personne']['numeroImmatriculation']['numeroIdentification'])\n",
    "        d['denomination'].append(json.loads(r['records'][i]['fields']['listepersonnes'])['personne']['denomination'])\n",
    "        d['formeJuridique'].append(json.loads(r['records'][i]['fields']['listepersonnes'])['personne']['formeJuridique'])\n",
    "    except KeyError:\n",
    "        d['numeroIdentification'].append(\"\")\n",
    "        d['denomination'].append(\"\")\n",
    "        d['formeJuridique'].append(\"\")\n",
    "    try:\n",
    "        d['registre'].append(r['records'][i]['fields']['registre'])\n",
    "    except KeyError:\n",
    "        d['registre'].append(\"\")\n",
    "    try:\n",
    "        d['cp'].append(r['records'][i]['fields']['cp'])\n",
    "    except KeyError:\n",
    "        d['cp'].append(\"\")\n",
    "    d['ispdf_unitaire'].append(r['records'][i]['fields']['ispdf_unitaire'])\n",
    "    try:\n",
    "        d['natureJugement'].append(json.loads(r['records'][i]['fields']['jugement'])['nature'])\n",
    "        d['dateJugement'].append(json.loads(r['records'][i]['fields']['jugement'])['date'])\n",
    "    except KeyError:\n",
    "        d['natureJugement'].append(\"\")\n",
    "        d['dateJugement'].append(\"\")\n",
    "    d['commercant'].append(r['records'][i]['fields']['commercant'])\n",
    "    d['dateparution'].append(r['records'][i]['fields']['dateparution'])\n",
    "    d['tribunal'].append(r['records'][i]['fields']['tribunal'])\n",
    "    d['typeavis'].append(r['records'][i]['fields']['typeavis'])\n",
    "    d['familleavis_lib'].append(r['records'][i]['fields']['familleavis_lib'])"
   ],
   "metadata": {
    "collapsed": false
   }
  },
  {
   "cell_type": "code",
   "execution_count": 65,
   "outputs": [
    {
     "data": {
      "text/plain": "     publicationavis numeroIdentification                   denomination  \\\n0                  A          884 337 270                        PRO-COM   \n1                  A          488 255 803  PHOCEENNE DE RESTAURATION SAS   \n2                  A          408 052 488             PRO-TAMPONS FRANCE   \n3                  A          883 720 088                            GCG   \n4                  A          422 259 424                      FLEURS 99   \n...              ...                  ...                            ...   \n1151            None          897 503 678                           None   \n1152            None          508 026 846                           None   \n1153            None          525 121 638                           None   \n1154            None          843 591 363                           None   \n1155            None          851 717 694                           None   \n\n                        formeJuridique  \\\n0       Société par actions simplifiée   \n1       Société par actions simplifiée   \n2                      Société anonyme   \n3     Société à responsabilité limitée   \n4     Société à responsabilité limitée   \n...                                ...   \n1151                              None   \n1152                              None   \n1153                              None   \n1154                              None   \n1155                              None   \n\n                                      natureJugement dateJugement  \\\n0     Jugement d'ouverture de liquidation judiciaire   2023-02-15   \n1      Jugement de clôture pour insuffisance d'actif   2023-02-15   \n2                       Dépôt de l'état des créances   2023-01-31   \n3                       Dépôt de l'état des créances   2023-02-16   \n4     Jugement d'ouverture de liquidation judiciaire   2023-02-14   \n...                                              ...          ...   \n1151                                            None         None   \n1152                                            None         None   \n1153                                            None         None   \n1154                                            None         None   \n1155                                            None         None   \n\n                   registre ispdf_unitaire     cp jugement  \\\n0     884337270,884 337 270            oui  13011     None   \n1     488255803,488 255 803            oui  13002     None   \n2     408052488,408 052 488            oui  13400     None   \n3     883720088,883 720 088            oui  16440     None   \n4     422259424,422 259 424            oui  20260     None   \n...                     ...            ...    ...      ...   \n1151                   None           None   None     None   \n1152                   None           None   None     None   \n1153                   None           None   None     None   \n1154                   None           None   None     None   \n1155                   None           None   None     None   \n\n                         commercant dateparution  \\\n0                           PRO-COM   2023-02-19   \n1     PHOCEENNE DE RESTAURATION SAS   2023-02-19   \n2                PRO-TAMPONS FRANCE   2023-02-19   \n3                               GCG   2023-02-19   \n4                         FLEURS 99   2023-02-19   \n...                             ...          ...   \n1151                           None         None   \n1152                           None         None   \n1153                           None         None   \n1154                           None         None   \n1155                           None         None   \n\n                                         tribunal typeavis  \\\n0     Greffe du Tribunal de Commerce de Marseille  annonce   \n1     Greffe du Tribunal de Commerce de Marseille  annonce   \n2     Greffe du Tribunal de Commerce de Marseille  annonce   \n3      Greffe du Tribunal de Commerce d'Angoulême  annonce   \n4        Greffe du Tribunal de Commerce de Bastia  annonce   \n...                                           ...      ...   \n1151                                         None     None   \n1152                                         None     None   \n1153                                         None     None   \n1154                                         None     None   \n1155                                         None     None   \n\n             familleavis_lib  \n0     Procédures collectives  \n1     Procédures collectives  \n2     Procédures collectives  \n3     Procédures collectives  \n4     Procédures collectives  \n...                      ...  \n1151                    None  \n1152                    None  \n1153                    None  \n1154                    None  \n1155                    None  \n\n[1156 rows x 15 columns]",
      "text/html": "<div>\n<style scoped>\n    .dataframe tbody tr th:only-of-type {\n        vertical-align: middle;\n    }\n\n    .dataframe tbody tr th {\n        vertical-align: top;\n    }\n\n    .dataframe thead th {\n        text-align: right;\n    }\n</style>\n<table border=\"1\" class=\"dataframe\">\n  <thead>\n    <tr style=\"text-align: right;\">\n      <th></th>\n      <th>publicationavis</th>\n      <th>numeroIdentification</th>\n      <th>denomination</th>\n      <th>formeJuridique</th>\n      <th>natureJugement</th>\n      <th>dateJugement</th>\n      <th>registre</th>\n      <th>ispdf_unitaire</th>\n      <th>cp</th>\n      <th>jugement</th>\n      <th>commercant</th>\n      <th>dateparution</th>\n      <th>tribunal</th>\n      <th>typeavis</th>\n      <th>familleavis_lib</th>\n    </tr>\n  </thead>\n  <tbody>\n    <tr>\n      <th>0</th>\n      <td>A</td>\n      <td>884 337 270</td>\n      <td>PRO-COM</td>\n      <td>Société par actions simplifiée</td>\n      <td>Jugement d'ouverture de liquidation judiciaire</td>\n      <td>2023-02-15</td>\n      <td>884337270,884 337 270</td>\n      <td>oui</td>\n      <td>13011</td>\n      <td>None</td>\n      <td>PRO-COM</td>\n      <td>2023-02-19</td>\n      <td>Greffe du Tribunal de Commerce de Marseille</td>\n      <td>annonce</td>\n      <td>Procédures collectives</td>\n    </tr>\n    <tr>\n      <th>1</th>\n      <td>A</td>\n      <td>488 255 803</td>\n      <td>PHOCEENNE DE RESTAURATION SAS</td>\n      <td>Société par actions simplifiée</td>\n      <td>Jugement de clôture pour insuffisance d'actif</td>\n      <td>2023-02-15</td>\n      <td>488255803,488 255 803</td>\n      <td>oui</td>\n      <td>13002</td>\n      <td>None</td>\n      <td>PHOCEENNE DE RESTAURATION SAS</td>\n      <td>2023-02-19</td>\n      <td>Greffe du Tribunal de Commerce de Marseille</td>\n      <td>annonce</td>\n      <td>Procédures collectives</td>\n    </tr>\n    <tr>\n      <th>2</th>\n      <td>A</td>\n      <td>408 052 488</td>\n      <td>PRO-TAMPONS FRANCE</td>\n      <td>Société anonyme</td>\n      <td>Dépôt de l'état des créances</td>\n      <td>2023-01-31</td>\n      <td>408052488,408 052 488</td>\n      <td>oui</td>\n      <td>13400</td>\n      <td>None</td>\n      <td>PRO-TAMPONS FRANCE</td>\n      <td>2023-02-19</td>\n      <td>Greffe du Tribunal de Commerce de Marseille</td>\n      <td>annonce</td>\n      <td>Procédures collectives</td>\n    </tr>\n    <tr>\n      <th>3</th>\n      <td>A</td>\n      <td>883 720 088</td>\n      <td>GCG</td>\n      <td>Société à responsabilité limitée</td>\n      <td>Dépôt de l'état des créances</td>\n      <td>2023-02-16</td>\n      <td>883720088,883 720 088</td>\n      <td>oui</td>\n      <td>16440</td>\n      <td>None</td>\n      <td>GCG</td>\n      <td>2023-02-19</td>\n      <td>Greffe du Tribunal de Commerce d'Angoulême</td>\n      <td>annonce</td>\n      <td>Procédures collectives</td>\n    </tr>\n    <tr>\n      <th>4</th>\n      <td>A</td>\n      <td>422 259 424</td>\n      <td>FLEURS 99</td>\n      <td>Société à responsabilité limitée</td>\n      <td>Jugement d'ouverture de liquidation judiciaire</td>\n      <td>2023-02-14</td>\n      <td>422259424,422 259 424</td>\n      <td>oui</td>\n      <td>20260</td>\n      <td>None</td>\n      <td>FLEURS 99</td>\n      <td>2023-02-19</td>\n      <td>Greffe du Tribunal de Commerce de Bastia</td>\n      <td>annonce</td>\n      <td>Procédures collectives</td>\n    </tr>\n    <tr>\n      <th>...</th>\n      <td>...</td>\n      <td>...</td>\n      <td>...</td>\n      <td>...</td>\n      <td>...</td>\n      <td>...</td>\n      <td>...</td>\n      <td>...</td>\n      <td>...</td>\n      <td>...</td>\n      <td>...</td>\n      <td>...</td>\n      <td>...</td>\n      <td>...</td>\n      <td>...</td>\n    </tr>\n    <tr>\n      <th>1151</th>\n      <td>None</td>\n      <td>897 503 678</td>\n      <td>None</td>\n      <td>None</td>\n      <td>None</td>\n      <td>None</td>\n      <td>None</td>\n      <td>None</td>\n      <td>None</td>\n      <td>None</td>\n      <td>None</td>\n      <td>None</td>\n      <td>None</td>\n      <td>None</td>\n      <td>None</td>\n    </tr>\n    <tr>\n      <th>1152</th>\n      <td>None</td>\n      <td>508 026 846</td>\n      <td>None</td>\n      <td>None</td>\n      <td>None</td>\n      <td>None</td>\n      <td>None</td>\n      <td>None</td>\n      <td>None</td>\n      <td>None</td>\n      <td>None</td>\n      <td>None</td>\n      <td>None</td>\n      <td>None</td>\n      <td>None</td>\n    </tr>\n    <tr>\n      <th>1153</th>\n      <td>None</td>\n      <td>525 121 638</td>\n      <td>None</td>\n      <td>None</td>\n      <td>None</td>\n      <td>None</td>\n      <td>None</td>\n      <td>None</td>\n      <td>None</td>\n      <td>None</td>\n      <td>None</td>\n      <td>None</td>\n      <td>None</td>\n      <td>None</td>\n      <td>None</td>\n    </tr>\n    <tr>\n      <th>1154</th>\n      <td>None</td>\n      <td>843 591 363</td>\n      <td>None</td>\n      <td>None</td>\n      <td>None</td>\n      <td>None</td>\n      <td>None</td>\n      <td>None</td>\n      <td>None</td>\n      <td>None</td>\n      <td>None</td>\n      <td>None</td>\n      <td>None</td>\n      <td>None</td>\n      <td>None</td>\n    </tr>\n    <tr>\n      <th>1155</th>\n      <td>None</td>\n      <td>851 717 694</td>\n      <td>None</td>\n      <td>None</td>\n      <td>None</td>\n      <td>None</td>\n      <td>None</td>\n      <td>None</td>\n      <td>None</td>\n      <td>None</td>\n      <td>None</td>\n      <td>None</td>\n      <td>None</td>\n      <td>None</td>\n      <td>None</td>\n    </tr>\n  </tbody>\n</table>\n<p>1156 rows × 15 columns</p>\n</div>"
     },
     "execution_count": 65,
     "metadata": {},
     "output_type": "execute_result"
    }
   ],
   "source": [
    "df_bodacc = pd.DataFrame.from_dict(d, orient='index').transpose()\n",
    "df_bodacc"
   ],
   "metadata": {
    "collapsed": false
   }
  },
  {
   "cell_type": "code",
   "execution_count": null,
   "outputs": [],
   "source": [],
   "metadata": {
    "collapsed": false
   }
  }
 ],
 "metadata": {
  "kernelspec": {
   "display_name": "Python 3",
   "language": "python",
   "name": "python3"
  },
  "language_info": {
   "codemirror_mode": {
    "name": "ipython",
    "version": 2
   },
   "file_extension": ".py",
   "mimetype": "text/x-python",
   "name": "python",
   "nbconvert_exporter": "python",
   "pygments_lexer": "ipython2",
   "version": "2.7.6"
  }
 },
 "nbformat": 4,
 "nbformat_minor": 0
}
